{
  "cells": [
    {
      "cell_type": "markdown",
      "metadata": {
        "id": "I2ocdoNmJrBQ"
      },
      "source": [
        "# Operator Flow"
      ]
    },
    {
      "cell_type": "markdown",
      "metadata": {
        "id": "8exXx7zpJrBS"
      },
      "source": [
        "## Introduction\n",
        "\n",
        "Qiskit provides classes representing states and operators and sums, tensor products, and compositions thereof. These algebraic constructs allow us to build expressions representing operators.\n",
        "\n",
        "We introduce expressions by building them from Pauli operators. In subsequent sections we explore in more detail operators and states, how they are represented, and what we can do with them. In the last section we construct a state, evolve it with a Hamiltonian, and compute expectation values of an observable.\n",
        "\n",
        "### Pauli operators, sums, compositions, and tensor products\n",
        "\n",
        "The most important base operators are the Pauli operators.\n",
        "The Pauli operators are represented like this.\n"
      ]
    },
    {
      "cell_type": "code",
      "source": [
        "!pip install qiskit"
      ],
      "metadata": {
        "colab": {
          "base_uri": "https://localhost:8080/"
        },
        "id": "4QDIujqoJv8A",
        "outputId": "b7be43f4-8fad-4c53-f3ba-10420ba3ada0"
      },
      "execution_count": 1,
      "outputs": [
        {
          "output_type": "stream",
          "name": "stdout",
          "text": [
            "Collecting qiskit\n",
            "  Downloading qiskit-0.34.2.tar.gz (13 kB)\n",
            "Collecting qiskit-terra==0.19.2\n",
            "  Downloading qiskit_terra-0.19.2-cp37-cp37m-manylinux_2_12_x86_64.manylinux2010_x86_64.whl (6.5 MB)\n",
            "\u001b[K     |████████████████████████████████| 6.5 MB 8.3 MB/s \n",
            "\u001b[?25hCollecting qiskit-aer==0.10.3\n",
            "  Downloading qiskit_aer-0.10.3-cp37-cp37m-manylinux_2_12_x86_64.manylinux2010_x86_64.whl (18.0 MB)\n",
            "\u001b[K     |████████████████████████████████| 18.0 MB 73 kB/s \n",
            "\u001b[?25hCollecting qiskit-ibmq-provider==0.18.3\n",
            "  Downloading qiskit_ibmq_provider-0.18.3-py3-none-any.whl (238 kB)\n",
            "\u001b[K     |████████████████████████████████| 238 kB 64.3 MB/s \n",
            "\u001b[?25hCollecting qiskit-ignis==0.7.0\n",
            "  Downloading qiskit_ignis-0.7.0-py3-none-any.whl (200 kB)\n",
            "\u001b[K     |████████████████████████████████| 200 kB 63.5 MB/s \n",
            "\u001b[?25hRequirement already satisfied: numpy>=1.16.3 in /usr/local/lib/python3.7/dist-packages (from qiskit-aer==0.10.3->qiskit) (1.21.5)\n",
            "Requirement already satisfied: scipy>=1.0 in /usr/local/lib/python3.7/dist-packages (from qiskit-aer==0.10.3->qiskit) (1.4.1)\n",
            "Requirement already satisfied: python-dateutil>=2.8.0 in /usr/local/lib/python3.7/dist-packages (from qiskit-ibmq-provider==0.18.3->qiskit) (2.8.2)\n",
            "Requirement already satisfied: urllib3>=1.21.1 in /usr/local/lib/python3.7/dist-packages (from qiskit-ibmq-provider==0.18.3->qiskit) (1.24.3)\n",
            "Collecting requests-ntlm>=1.1.0\n",
            "  Downloading requests_ntlm-1.1.0-py2.py3-none-any.whl (5.7 kB)\n",
            "Requirement already satisfied: requests>=2.19 in /usr/local/lib/python3.7/dist-packages (from qiskit-ibmq-provider==0.18.3->qiskit) (2.23.0)\n",
            "Collecting websocket-client>=1.0.1\n",
            "  Downloading websocket_client-1.3.1-py3-none-any.whl (54 kB)\n",
            "\u001b[K     |████████████████████████████████| 54 kB 3.7 MB/s \n",
            "\u001b[?25hRequirement already satisfied: setuptools>=40.1.0 in /usr/local/lib/python3.7/dist-packages (from qiskit-ignis==0.7.0->qiskit) (57.4.0)\n",
            "Collecting retworkx>=0.8.0\n",
            "  Downloading retworkx-0.11.0-cp37-cp37m-manylinux_2_5_x86_64.manylinux1_x86_64.manylinux_2_12_x86_64.manylinux2010_x86_64.whl (1.6 MB)\n",
            "\u001b[K     |████████████████████████████████| 1.6 MB 44.3 MB/s \n",
            "\u001b[?25hCollecting stevedore>=3.0.0\n",
            "  Downloading stevedore-3.5.0-py3-none-any.whl (49 kB)\n",
            "\u001b[K     |████████████████████████████████| 49 kB 8.6 MB/s \n",
            "\u001b[?25hCollecting tweedledum<2.0,>=1.1\n",
            "  Downloading tweedledum-1.1.1-cp37-cp37m-manylinux_2_12_x86_64.manylinux2010_x86_64.whl (943 kB)\n",
            "\u001b[K     |████████████████████████████████| 943 kB 57.5 MB/s \n",
            "\u001b[?25hCollecting ply>=3.10\n",
            "  Downloading ply-3.11-py2.py3-none-any.whl (49 kB)\n",
            "\u001b[K     |████████████████████████████████| 49 kB 8.9 MB/s \n",
            "\u001b[?25hRequirement already satisfied: sympy>=1.3 in /usr/local/lib/python3.7/dist-packages (from qiskit-terra==0.19.2->qiskit) (1.7.1)\n",
            "Collecting python-constraint>=1.4\n",
            "  Downloading python-constraint-1.4.0.tar.bz2 (18 kB)\n",
            "Collecting symengine>=0.8\n",
            "  Downloading symengine-0.9.2-cp37-cp37m-manylinux2010_x86_64.whl (37.5 MB)\n",
            "\u001b[K     |████████████████████████████████| 37.5 MB 44 kB/s \n",
            "\u001b[?25hCollecting scipy>=1.0\n",
            "  Downloading scipy-1.7.3-cp37-cp37m-manylinux_2_12_x86_64.manylinux2010_x86_64.whl (38.1 MB)\n",
            "\u001b[K     |████████████████████████████████| 38.1 MB 438 kB/s \n",
            "\u001b[?25hRequirement already satisfied: psutil>=5 in /usr/local/lib/python3.7/dist-packages (from qiskit-terra==0.19.2->qiskit) (5.4.8)\n",
            "Requirement already satisfied: dill>=0.3 in /usr/local/lib/python3.7/dist-packages (from qiskit-terra==0.19.2->qiskit) (0.3.4)\n",
            "Requirement already satisfied: six>=1.5 in /usr/local/lib/python3.7/dist-packages (from python-dateutil>=2.8.0->qiskit-ibmq-provider==0.18.3->qiskit) (1.15.0)\n",
            "Requirement already satisfied: certifi>=2017.4.17 in /usr/local/lib/python3.7/dist-packages (from requests>=2.19->qiskit-ibmq-provider==0.18.3->qiskit) (2021.10.8)\n",
            "Requirement already satisfied: chardet<4,>=3.0.2 in /usr/local/lib/python3.7/dist-packages (from requests>=2.19->qiskit-ibmq-provider==0.18.3->qiskit) (3.0.4)\n",
            "Requirement already satisfied: idna<3,>=2.5 in /usr/local/lib/python3.7/dist-packages (from requests>=2.19->qiskit-ibmq-provider==0.18.3->qiskit) (2.10)\n",
            "Collecting cryptography>=1.3\n",
            "  Downloading cryptography-36.0.1-cp36-abi3-manylinux_2_24_x86_64.whl (3.6 MB)\n",
            "\u001b[K     |████████████████████████████████| 3.6 MB 50.0 MB/s \n",
            "\u001b[?25hCollecting ntlm-auth>=1.0.2\n",
            "  Downloading ntlm_auth-1.5.0-py2.py3-none-any.whl (29 kB)\n",
            "Requirement already satisfied: cffi>=1.12 in /usr/local/lib/python3.7/dist-packages (from cryptography>=1.3->requests-ntlm>=1.1.0->qiskit-ibmq-provider==0.18.3->qiskit) (1.15.0)\n",
            "Requirement already satisfied: pycparser in /usr/local/lib/python3.7/dist-packages (from cffi>=1.12->cryptography>=1.3->requests-ntlm>=1.1.0->qiskit-ibmq-provider==0.18.3->qiskit) (2.21)\n",
            "Requirement already satisfied: importlib-metadata>=1.7.0 in /usr/local/lib/python3.7/dist-packages (from stevedore>=3.0.0->qiskit-terra==0.19.2->qiskit) (4.11.2)\n",
            "Collecting pbr!=2.1.0,>=2.0.0\n",
            "  Downloading pbr-5.8.1-py2.py3-none-any.whl (113 kB)\n",
            "\u001b[K     |████████████████████████████████| 113 kB 57.1 MB/s \n",
            "\u001b[?25hRequirement already satisfied: zipp>=0.5 in /usr/local/lib/python3.7/dist-packages (from importlib-metadata>=1.7.0->stevedore>=3.0.0->qiskit-terra==0.19.2->qiskit) (3.7.0)\n",
            "Requirement already satisfied: typing-extensions>=3.6.4 in /usr/local/lib/python3.7/dist-packages (from importlib-metadata>=1.7.0->stevedore>=3.0.0->qiskit-terra==0.19.2->qiskit) (3.10.0.2)\n",
            "Requirement already satisfied: mpmath>=0.19 in /usr/local/lib/python3.7/dist-packages (from sympy>=1.3->qiskit-terra==0.19.2->qiskit) (1.2.1)\n",
            "Building wheels for collected packages: qiskit, python-constraint\n",
            "  Building wheel for qiskit (setup.py) ... \u001b[?25l\u001b[?25hdone\n",
            "  Created wheel for qiskit: filename=qiskit-0.34.2-py3-none-any.whl size=11805 sha256=9cea0c9871ba827232c3d654f7235f8145304f94e82d2a5b69baa6024991e804\n",
            "  Stored in directory: /root/.cache/pip/wheels/62/77/65/cda6eedfdd2a525bd3f479a4386930ae3088a1eb01f8c944ed\n",
            "  Building wheel for python-constraint (setup.py) ... \u001b[?25l\u001b[?25hdone\n",
            "  Created wheel for python-constraint: filename=python_constraint-1.4.0-py2.py3-none-any.whl size=24081 sha256=dcfc9016d87815dc076e8eefaebb6ecc91f969f5086b2c7279cfb95fd9beb506\n",
            "  Stored in directory: /root/.cache/pip/wheels/07/27/db/1222c80eb1e431f3d2199c12569cb1cac60f562a451fe30479\n",
            "Successfully built qiskit python-constraint\n",
            "Installing collected packages: pbr, tweedledum, symengine, stevedore, scipy, retworkx, python-constraint, ply, ntlm-auth, cryptography, websocket-client, requests-ntlm, qiskit-terra, qiskit-ignis, qiskit-ibmq-provider, qiskit-aer, qiskit\n",
            "  Attempting uninstall: scipy\n",
            "    Found existing installation: scipy 1.4.1\n",
            "    Uninstalling scipy-1.4.1:\n",
            "      Successfully uninstalled scipy-1.4.1\n",
            "\u001b[31mERROR: pip's dependency resolver does not currently take into account all the packages that are installed. This behaviour is the source of the following dependency conflicts.\n",
            "albumentations 0.1.12 requires imgaug<0.2.7,>=0.2.5, but you have imgaug 0.2.9 which is incompatible.\u001b[0m\n",
            "Successfully installed cryptography-36.0.1 ntlm-auth-1.5.0 pbr-5.8.1 ply-3.11 python-constraint-1.4.0 qiskit-0.34.2 qiskit-aer-0.10.3 qiskit-ibmq-provider-0.18.3 qiskit-ignis-0.7.0 qiskit-terra-0.19.2 requests-ntlm-1.1.0 retworkx-0.11.0 scipy-1.7.3 stevedore-3.5.0 symengine-0.9.2 tweedledum-1.1.1 websocket-client-1.3.1\n"
          ]
        }
      ]
    },
    {
      "cell_type": "code",
      "execution_count": 2,
      "metadata": {
        "colab": {
          "base_uri": "https://localhost:8080/"
        },
        "id": "JCs18o-BJrBT",
        "outputId": "17237298-f138-4825-8cdc-ff0af5290a4b"
      },
      "outputs": [
        {
          "output_type": "stream",
          "name": "stdout",
          "text": [
            "I X Y Z\n"
          ]
        }
      ],
      "source": [
        "from qiskit.opflow import I, X, Y, Z\n",
        "print(I, X, Y, Z)"
      ]
    },
    {
      "cell_type": "markdown",
      "metadata": {
        "id": "SSqqd6rsJrBT"
      },
      "source": [
        "These operators may also carry a coefficient."
      ]
    },
    {
      "cell_type": "code",
      "execution_count": 3,
      "metadata": {
        "colab": {
          "base_uri": "https://localhost:8080/"
        },
        "id": "6lPdX49FJrBU",
        "outputId": "0ef5f53e-b1fb-43ec-ad11-bbe4f5ccf024"
      },
      "outputs": [
        {
          "output_type": "stream",
          "name": "stdout",
          "text": [
            "1.5 * I\n",
            "2.5 * X\n"
          ]
        }
      ],
      "source": [
        "print(1.5 * I)\n",
        "print(2.5 * X)"
      ]
    },
    {
      "cell_type": "markdown",
      "metadata": {
        "id": "z_EzRXg7JrBU"
      },
      "source": [
        "These coefficients allow the operators to be used as terms in a sum."
      ]
    },
    {
      "cell_type": "code",
      "execution_count": 4,
      "metadata": {
        "colab": {
          "base_uri": "https://localhost:8080/"
        },
        "id": "hzioch-hJrBU",
        "outputId": "22d30acf-e3cf-4a93-ecdb-1d08d6f90838"
      },
      "outputs": [
        {
          "output_type": "stream",
          "name": "stdout",
          "text": [
            "1.0 * X\n",
            "+ 2.0 * Y\n"
          ]
        }
      ],
      "source": [
        "print(X + 2.0 * Y)"
      ]
    },
    {
      "cell_type": "markdown",
      "metadata": {
        "id": "kytKNRUMJrBV"
      },
      "source": [
        "Tensor products are denoted with a caret, like this."
      ]
    },
    {
      "cell_type": "code",
      "execution_count": 5,
      "metadata": {
        "colab": {
          "base_uri": "https://localhost:8080/"
        },
        "id": "wm0Q1gODJrBV",
        "outputId": "95252eb7-726d-4a23-f8ac-0c5671ac9e3c"
      },
      "outputs": [
        {
          "output_type": "stream",
          "name": "stdout",
          "text": [
            "XYZ\n"
          ]
        }
      ],
      "source": [
        "print(X^Y^Z)"
      ]
    },
    {
      "cell_type": "markdown",
      "metadata": {
        "id": "Af4Pa7eXJrBV"
      },
      "source": [
        "Composition is denoted by the `@` symbol."
      ]
    },
    {
      "cell_type": "code",
      "execution_count": 6,
      "metadata": {
        "colab": {
          "base_uri": "https://localhost:8080/"
        },
        "id": "i52jTvqlJrBV",
        "outputId": "e643382a-a52f-4b0b-c877-d693b8b38a34"
      },
      "outputs": [
        {
          "output_type": "stream",
          "name": "stdout",
          "text": [
            "iI\n"
          ]
        }
      ],
      "source": [
        "print(X @ Y @ Z)"
      ]
    },
    {
      "cell_type": "markdown",
      "metadata": {
        "id": "CfNGDbItJrBW"
      },
      "source": [
        "In the preceding two examples, the tensor product and composition of Pauli operators were immediately reduced to the equivalent (possibly multi-qubit) Pauli operator. If we tensor or compose more complicated objects, the result is objects representing the unevaluated operations. That is, algebraic expressions."
      ]
    },
    {
      "cell_type": "markdown",
      "metadata": {
        "id": "kAdQ2wPkJrBW"
      },
      "source": [
        "For example, composing two sums gives"
      ]
    },
    {
      "cell_type": "code",
      "execution_count": 7,
      "metadata": {
        "colab": {
          "base_uri": "https://localhost:8080/"
        },
        "id": "1Kjd9XV1JrBW",
        "outputId": "a1eae982-53ef-49f5-d2f3-eb82027e8251"
      },
      "outputs": [
        {
          "output_type": "stream",
          "name": "stdout",
          "text": [
            "1j * Z\n",
            "+ -1j * Y\n",
            "+ 1.0 * I\n",
            "+ 1j * X\n"
          ]
        }
      ],
      "source": [
        "print((X + Y) @ (Y + Z))"
      ]
    },
    {
      "cell_type": "markdown",
      "metadata": {
        "id": "HPOyLDuvJrBW"
      },
      "source": [
        "And tensoring two sums gives"
      ]
    },
    {
      "cell_type": "code",
      "execution_count": 8,
      "metadata": {
        "scrolled": true,
        "colab": {
          "base_uri": "https://localhost:8080/"
        },
        "id": "PEwEI2zAJrBW",
        "outputId": "fc0e598d-2b2e-4efd-f54d-cd42b58d2fe4"
      },
      "outputs": [
        {
          "output_type": "stream",
          "name": "stdout",
          "text": [
            "1.0 * XY\n",
            "+ 1.0 * XZ\n",
            "+ 1.0 * YY\n",
            "+ 1.0 * YZ\n"
          ]
        }
      ],
      "source": [
        "print((X + Y) ^ (Y + Z))"
      ]
    },
    {
      "cell_type": "markdown",
      "metadata": {
        "id": "PJfrv5r5JrBW"
      },
      "source": [
        "Let's take a closer look at the types introduced above. First the Pauli operators."
      ]
    },
    {
      "cell_type": "code",
      "execution_count": 9,
      "metadata": {
        "colab": {
          "base_uri": "https://localhost:8080/"
        },
        "id": "fdPqJQkdJrBX",
        "outputId": "e12de97a-045b-43f4-bd66-d92c7ff5f9da"
      },
      "outputs": [
        {
          "output_type": "execute_result",
          "data": {
            "text/plain": [
              "(PauliOp(Pauli('I'), coeff=1.0), PauliOp(Pauli('X'), coeff=1.0))"
            ]
          },
          "metadata": {},
          "execution_count": 9
        }
      ],
      "source": [
        "(I, X)"
      ]
    },
    {
      "cell_type": "markdown",
      "metadata": {
        "id": "UARB7W_dJrBX"
      },
      "source": [
        "Each Pauli operator is an instance of `PauliOp`, which wraps an instance of `qiskit.quantum_info.Pauli`, and adds a coefficient `coeff`. In general, a `PauliOp` represents a weighted tensor product of Pauli operators."
      ]
    },
    {
      "cell_type": "code",
      "execution_count": 10,
      "metadata": {
        "colab": {
          "base_uri": "https://localhost:8080/"
        },
        "id": "i7l5u9CYJrBX",
        "outputId": "8297dfee-40b5-4ec0-8ae5-ba0f915feb44"
      },
      "outputs": [
        {
          "output_type": "execute_result",
          "data": {
            "text/plain": [
              "PauliOp(Pauli('XYZ'), coeff=2.0)"
            ]
          },
          "metadata": {},
          "execution_count": 10
        }
      ],
      "source": [
        "2.0 * X^Y^Z"
      ]
    },
    {
      "cell_type": "markdown",
      "metadata": {
        "id": "WR_fgMvzJrBX"
      },
      "source": [
        "For the encoding of the Pauli operators as pairs of Boolean values, see the documentation for `qiskit.quantum_info.Pauli`.\n",
        "\n",
        "All of the objects representing operators, whether as \"primitive\"s such as `PauliOp`, or algebraic expressions carry a coefficient"
      ]
    },
    {
      "cell_type": "code",
      "execution_count": 11,
      "metadata": {
        "colab": {
          "base_uri": "https://localhost:8080/"
        },
        "id": "GT2sTRAYJrBX",
        "outputId": "87fcd54b-9846-4dea-c52a-1593bacee4aa"
      },
      "outputs": [
        {
          "output_type": "stream",
          "name": "stdout",
          "text": [
            "1.2 * (\n",
            "  1.1 * XY\n",
            "  + 1.4300000000000002 * XZ\n",
            ")\n"
          ]
        }
      ],
      "source": [
        "print(1.1 * ((1.2 * X)^(Y + (1.3 * Z))))"
      ]
    },
    {
      "cell_type": "markdown",
      "metadata": {
        "id": "fFe2q7Y_JrBX"
      },
      "source": [
        "In the following we take a broader and deeper look at Qiskit's operators, states, and the building blocks of quantum algorithms."
      ]
    },
    {
      "cell_type": "markdown",
      "metadata": {
        "id": "x_sIx9RhJrBY"
      },
      "source": [
        "\n",
        "## Part I: State Functions and Measurements\n",
        "\n",
        "Quantum states are represented by subclasses of the class `StateFn`. There are four representations of quantum states: `DictStateFn` is a sparse representation in the computational basis, backed by a `dict`. `VectorStateFn` is a dense representation in the computational basis backed by a numpy array. `CircuitStateFn` is backed by a circuit and represents the state obtained by executing the circuit on the all-zero computational-basis state. `OperatorStateFn` represents mixed states via a density matrix. (As we will see later, `OperatorStateFn` is also used to represent observables.)\n",
        "\n",
        "Several `StateFn` instances are provided for convenience. For example `Zero, One, Plus, Minus`."
      ]
    },
    {
      "cell_type": "code",
      "execution_count": 12,
      "metadata": {
        "id": "2K24nmuBJrBY"
      },
      "outputs": [],
      "source": [
        "from qiskit.opflow import (StateFn, Zero, One, Plus, Minus, H,\n",
        "                           DictStateFn, VectorStateFn, CircuitStateFn, OperatorStateFn)"
      ]
    },
    {
      "cell_type": "markdown",
      "metadata": {
        "id": "uUYrLn_uJrBY"
      },
      "source": [
        "`Zero` and `One` represent the quantum states $|0\\rangle$ and $|1\\rangle$. They are represented via `DictStateFn`."
      ]
    },
    {
      "cell_type": "code",
      "execution_count": 13,
      "metadata": {
        "colab": {
          "base_uri": "https://localhost:8080/"
        },
        "id": "aK6UZcPcJrBY",
        "outputId": "af3d5776-9440-4d3e-e2bf-1bab77b9e89a"
      },
      "outputs": [
        {
          "output_type": "stream",
          "name": "stdout",
          "text": [
            "DictStateFn({'0': 1}) DictStateFn({'1': 1})\n"
          ]
        }
      ],
      "source": [
        "print(Zero, One)"
      ]
    },
    {
      "cell_type": "markdown",
      "metadata": {
        "id": "kairQ_n8JrBY"
      },
      "source": [
        "`Plus` and `Minus`, representing states $(|0\\rangle + |1\\rangle)/\\sqrt{2}$ and $(|0\\rangle - |1\\rangle)/\\sqrt{2}$ are represented via circuits. `H` is a synonym for `Plus`."
      ]
    },
    {
      "cell_type": "code",
      "execution_count": 14,
      "metadata": {
        "colab": {
          "base_uri": "https://localhost:8080/"
        },
        "id": "kHYRSVVOJrBY",
        "outputId": "36cabd6b-82eb-46a1-c4c2-280886f0d8f4"
      },
      "outputs": [
        {
          "output_type": "stream",
          "name": "stdout",
          "text": [
            "CircuitStateFn(\n",
            "   ┌───┐\n",
            "q: ┤ H ├\n",
            "   └───┘\n",
            ") CircuitStateFn(\n",
            "   ┌───┐┌───┐\n",
            "q: ┤ X ├┤ H ├\n",
            "   └───┘└───┘\n",
            ")\n"
          ]
        }
      ],
      "source": [
        "print(Plus, Minus)"
      ]
    },
    {
      "cell_type": "markdown",
      "metadata": {
        "id": "Qg2PV-SqJrBY"
      },
      "source": [
        "Indexing into quantum states is done with the `eval` method. These examples return the coefficients of the `0` and `1` basis states. (Below, we will see that the `eval` method is used for other computations, as well.)"
      ]
    },
    {
      "cell_type": "code",
      "execution_count": 15,
      "metadata": {
        "colab": {
          "base_uri": "https://localhost:8080/"
        },
        "id": "QV2AqI89JrBY",
        "outputId": "654b9517-276b-49e8-8b76-9ea1a0585b81"
      },
      "outputs": [
        {
          "output_type": "stream",
          "name": "stdout",
          "text": [
            "1.0\n",
            "0.0\n",
            "1.0\n",
            "(0.7071067811865475+0j)\n",
            "(-0.7071067811865475+8.7e-17j)\n"
          ]
        }
      ],
      "source": [
        "print(Zero.eval('0'))\n",
        "print(Zero.eval('1'))\n",
        "print(One.eval('1'))\n",
        "print(Plus.eval('0'))\n",
        "print(Minus.eval('1'))"
      ]
    },
    {
      "cell_type": "markdown",
      "metadata": {
        "id": "pB39AvtuJrBY"
      },
      "source": [
        "The dual vector of a quantum state, that is the *bra* corresponding to a *ket* is obtained via the `adjoint` method. The `StateFn` carries a flag `is_measurement`, which is `False` if the object is a ket and `True` if it is a bra."
      ]
    },
    {
      "cell_type": "markdown",
      "metadata": {
        "id": "S5fSiIj1JrBY"
      },
      "source": [
        "Here, we construct $\\langle 1 |$."
      ]
    },
    {
      "cell_type": "code",
      "execution_count": 16,
      "metadata": {
        "colab": {
          "base_uri": "https://localhost:8080/"
        },
        "id": "EMTXe0H6JrBZ",
        "outputId": "cd647cdd-7edc-4e71-fd6c-9ebc76a326d3"
      },
      "outputs": [
        {
          "output_type": "execute_result",
          "data": {
            "text/plain": [
              "DictStateFn({'1': 1}, coeff=1.0, is_measurement=True)"
            ]
          },
          "metadata": {},
          "execution_count": 16
        }
      ],
      "source": [
        "One.adjoint()"
      ]
    },
    {
      "cell_type": "markdown",
      "metadata": {
        "id": "d996BSuIJrBZ"
      },
      "source": [
        "For convenience, one may obtain the dual vector with a tilde, like this"
      ]
    },
    {
      "cell_type": "code",
      "execution_count": 17,
      "metadata": {
        "colab": {
          "base_uri": "https://localhost:8080/"
        },
        "id": "2xSHzrmLJrBZ",
        "outputId": "4ac75b9e-8850-4f21-b1a4-5b30fe34e02a"
      },
      "outputs": [
        {
          "output_type": "execute_result",
          "data": {
            "text/plain": [
              "DictStateFn({'1': 1}, coeff=1.0, is_measurement=True)"
            ]
          },
          "metadata": {},
          "execution_count": 17
        }
      ],
      "source": [
        "~One"
      ]
    },
    {
      "cell_type": "markdown",
      "metadata": {
        "id": "PY2eNGpjJrBa"
      },
      "source": [
        "### Algebraic operations and predicates\n",
        "\n",
        "Many algebraic operations and predicates between `StateFn`s are supported, including:\n",
        "\n",
        "* `+` - addition\n",
        "* `-` - subtraction, negation (scalar multiplication by -1)\n",
        "* `*` - scalar multiplication\n",
        "* `/` - scalar division\n",
        "* `@` - composition\n",
        "* `^` - tensor product or tensor power (tensor with self n times)\n",
        "* `**` - composition power (compose with self n times)\n",
        "* `==` - equality\n",
        "* `~` - adjoint, alternating between a State Function and Measurement\n",
        "\n",
        "Be very aware that these operators obey the [Python rules for operator precedence](https://docs.python.org/3/reference/expressions.html#operator-precedence), which might not be what you expect mathematically.  For example, `I^X + X^I` will actually be parsed as `I ^ (X + X) ^ I == 2 * (I^X^I)` because Python evaluates `+` before `^`.  In these cases, you can use the methods (`.tensor()`, etc) or parentheses."
      ]
    },
    {
      "cell_type": "markdown",
      "metadata": {
        "id": "MJu6CDD_JrBa"
      },
      "source": [
        "`StateFn`s carry a coefficient. This allows us multiply states by a scalar, and so to construct sums."
      ]
    },
    {
      "cell_type": "markdown",
      "metadata": {
        "id": "j7GQ_t7hJrBa"
      },
      "source": [
        "Here, we construct $(2 + 3i)|0\\rangle$."
      ]
    },
    {
      "cell_type": "code",
      "execution_count": 18,
      "metadata": {
        "colab": {
          "base_uri": "https://localhost:8080/"
        },
        "id": "oD0BsDMqJrBa",
        "outputId": "41f36c5d-521c-40f2-8da5-0f0b62a26cd7"
      },
      "outputs": [
        {
          "output_type": "execute_result",
          "data": {
            "text/plain": [
              "DictStateFn({'0': 1}, coeff=(2+3j), is_measurement=False)"
            ]
          },
          "metadata": {},
          "execution_count": 18
        }
      ],
      "source": [
        "(2.0 + 3.0j) * Zero"
      ]
    },
    {
      "cell_type": "markdown",
      "metadata": {
        "id": "HCRsvkfNJrBa"
      },
      "source": [
        "Here, we see that adding two `DictStateFn`s returns an object of the same type. We construct $|0\\rangle + |1\\rangle$."
      ]
    },
    {
      "cell_type": "code",
      "execution_count": 19,
      "metadata": {
        "colab": {
          "base_uri": "https://localhost:8080/"
        },
        "id": "qzFrazLbJrBa",
        "outputId": "8b64bcc0-c61a-4c90-ac23-58280698efaa"
      },
      "outputs": [
        {
          "output_type": "stream",
          "name": "stdout",
          "text": [
            "DictStateFn({'0': 1.0, '1': 1.0})\n"
          ]
        }
      ],
      "source": [
        "print(Zero + One)"
      ]
    },
    {
      "cell_type": "markdown",
      "metadata": {
        "id": "ILywVgtEJrBa"
      },
      "source": [
        "Note that you must normalize states by hand. For example, to construct $(|0\\rangle + |1\\rangle)/\\sqrt{2}$, we write"
      ]
    },
    {
      "cell_type": "code",
      "execution_count": 20,
      "metadata": {
        "colab": {
          "base_uri": "https://localhost:8080/"
        },
        "id": "PdyO8MIJJrBa",
        "outputId": "34c46f1b-2fa1-42a5-8249-8e87f6c864d0"
      },
      "outputs": [
        {
          "output_type": "stream",
          "name": "stdout",
          "text": [
            "DictStateFn({'0': 1.0, '1': 1.0}) * 0.7071067811865475\n"
          ]
        }
      ],
      "source": [
        "import math\n",
        "\n",
        "v_zero_one = (Zero + One) / math.sqrt(2)\n",
        "print(v_zero_one)"
      ]
    },
    {
      "cell_type": "markdown",
      "metadata": {
        "id": "5lAoBtTfJrBb"
      },
      "source": [
        "In other cases, the result is a symbolic representation of a sum. For example, here is a representation of $|+\\rangle + |-\\rangle$."
      ]
    },
    {
      "cell_type": "code",
      "execution_count": 21,
      "metadata": {
        "colab": {
          "base_uri": "https://localhost:8080/"
        },
        "id": "Em32B1riJrBb",
        "outputId": "2a132ee5-86ed-4aaa-94a4-240204a1b99f"
      },
      "outputs": [
        {
          "output_type": "stream",
          "name": "stdout",
          "text": [
            "SummedOp([\n",
            "  CircuitStateFn(\n",
            "     ┌───┐\n",
            "  q: ┤ H ├\n",
            "     └───┘\n",
            "  ),\n",
            "  CircuitStateFn(\n",
            "     ┌───┐┌───┐\n",
            "  q: ┤ X ├┤ H ├\n",
            "     └───┘└───┘\n",
            "  )\n",
            "])\n"
          ]
        }
      ],
      "source": [
        "print(Plus + Minus)"
      ]
    },
    {
      "cell_type": "markdown",
      "metadata": {
        "id": "MMdXR1tLJrBb"
      },
      "source": [
        "The composition operator is used to perform an inner product, which by default is held in an unevaluated form. Here is a representation of $\\langle 1 | 1 \\rangle$."
      ]
    },
    {
      "cell_type": "code",
      "execution_count": 22,
      "metadata": {
        "colab": {
          "base_uri": "https://localhost:8080/"
        },
        "id": "giO1X3Y_JrBb",
        "outputId": "8ccde39d-9a07-4212-eaf3-4487f0a7b051"
      },
      "outputs": [
        {
          "output_type": "stream",
          "name": "stdout",
          "text": [
            "ComposedOp([\n",
            "  DictMeasurement({'1': 1}),\n",
            "  DictStateFn({'1': 1})\n",
            "])\n"
          ]
        }
      ],
      "source": [
        "print(~One @ One)"
      ]
    },
    {
      "cell_type": "markdown",
      "metadata": {
        "id": "yHAMOwncJrBb"
      },
      "source": [
        "Note that the `is_measurement` flag causes the (bra) state `~One` to be printed `DictMeasurement`."
      ]
    },
    {
      "cell_type": "markdown",
      "metadata": {
        "id": "i2vt_AymJrBb"
      },
      "source": [
        "Symbolic expressions may be evaluated with the `eval` method."
      ]
    },
    {
      "cell_type": "code",
      "execution_count": 23,
      "metadata": {
        "colab": {
          "base_uri": "https://localhost:8080/"
        },
        "id": "fuCAkJWxJrBb",
        "outputId": "2346e1f7-a1e0-44dc-fb9a-8550264ffe07"
      },
      "outputs": [
        {
          "output_type": "execute_result",
          "data": {
            "text/plain": [
              "1.0"
            ]
          },
          "metadata": {},
          "execution_count": 23
        }
      ],
      "source": [
        "(~One @ One).eval()"
      ]
    },
    {
      "cell_type": "code",
      "execution_count": 24,
      "metadata": {
        "colab": {
          "base_uri": "https://localhost:8080/"
        },
        "id": "JP_sV-hqJrBb",
        "outputId": "41660936-0f32-458d-8c8b-923e2eca296f"
      },
      "outputs": [
        {
          "output_type": "execute_result",
          "data": {
            "text/plain": [
              "0.9999999999999998"
            ]
          },
          "metadata": {},
          "execution_count": 24
        }
      ],
      "source": [
        "(~v_zero_one @ v_zero_one).eval()"
      ]
    },
    {
      "cell_type": "markdown",
      "metadata": {
        "id": "ZruPb1meJrBb"
      },
      "source": [
        "Here is $\\langle - | 1 \\rangle = \\langle (\\langle 0| - \\langle 1|)/\\sqrt{2} | 1\\rangle$."
      ]
    },
    {
      "cell_type": "code",
      "execution_count": 25,
      "metadata": {
        "colab": {
          "base_uri": "https://localhost:8080/"
        },
        "id": "9w5ge-K0JrBb",
        "outputId": "3cd7790f-9974-44ec-d779-a4f87ba1eb3f"
      },
      "outputs": [
        {
          "output_type": "execute_result",
          "data": {
            "text/plain": [
              "(-0.7071067811865475-8.7e-17j)"
            ]
          },
          "metadata": {},
          "execution_count": 25
        }
      ],
      "source": [
        "(~Minus @ One).eval()"
      ]
    },
    {
      "cell_type": "markdown",
      "metadata": {
        "id": "xXiSQqHuJrBb"
      },
      "source": [
        "The composition operator `@` is equivalent to calling the `compose` method."
      ]
    },
    {
      "cell_type": "code",
      "execution_count": 26,
      "metadata": {
        "colab": {
          "base_uri": "https://localhost:8080/"
        },
        "id": "wwVseWG9JrBb",
        "outputId": "aeff28c1-6ad8-4ef5-ba8b-133585964d4a"
      },
      "outputs": [
        {
          "output_type": "stream",
          "name": "stdout",
          "text": [
            "ComposedOp([\n",
            "  DictMeasurement({'1': 1}),\n",
            "  DictStateFn({'1': 1})\n",
            "])\n"
          ]
        }
      ],
      "source": [
        "print((~One).compose(One))"
      ]
    },
    {
      "cell_type": "markdown",
      "metadata": {
        "id": "UcArsVKVJrBb"
      },
      "source": [
        "Inner products may also be computed using the `eval` method directly, without constructing a `ComposedOp`."
      ]
    },
    {
      "cell_type": "code",
      "execution_count": 27,
      "metadata": {
        "colab": {
          "base_uri": "https://localhost:8080/"
        },
        "id": "tkkuewsoJrBb",
        "outputId": "38fbe1dd-def1-422c-b89b-3a3bddeb4dff"
      },
      "outputs": [
        {
          "output_type": "execute_result",
          "data": {
            "text/plain": [
              "1.0"
            ]
          },
          "metadata": {},
          "execution_count": 27
        }
      ],
      "source": [
        "(~One).eval(One)"
      ]
    },
    {
      "cell_type": "markdown",
      "metadata": {
        "id": "5PqEwgpMJrBb"
      },
      "source": [
        "Symbolic tensor products are constructed as follows. Here is $|0\\rangle \\otimes |+\\rangle$."
      ]
    },
    {
      "cell_type": "code",
      "execution_count": 28,
      "metadata": {
        "colab": {
          "base_uri": "https://localhost:8080/"
        },
        "id": "oHSwjcHWJrBb",
        "outputId": "876e1e9c-78b5-445e-fdf3-aeafe6e4e523"
      },
      "outputs": [
        {
          "output_type": "stream",
          "name": "stdout",
          "text": [
            "TensoredOp([\n",
            "  DictStateFn({'0': 1}),\n",
            "  CircuitStateFn(\n",
            "     ┌───┐\n",
            "  q: ┤ H ├\n",
            "     └───┘\n",
            "  )\n",
            "])\n"
          ]
        }
      ],
      "source": [
        "print(Zero^Plus)"
      ]
    },
    {
      "cell_type": "markdown",
      "metadata": {
        "id": "40lEknaUJrBb"
      },
      "source": [
        "This may be represented as a simple (not compound) `CircuitStateFn`."
      ]
    },
    {
      "cell_type": "code",
      "execution_count": 29,
      "metadata": {
        "scrolled": false,
        "colab": {
          "base_uri": "https://localhost:8080/"
        },
        "id": "f7BdPAEyJrBb",
        "outputId": "f43ef802-263d-409c-8b92-e8e56f7f1219"
      },
      "outputs": [
        {
          "output_type": "stream",
          "name": "stdout",
          "text": [
            "CircuitStateFn(\n",
            "     ┌───┐\n",
            "q_0: ┤ H ├\n",
            "     └───┘\n",
            "q_1: ─────\n",
            "          \n",
            ")\n"
          ]
        }
      ],
      "source": [
        "print((Zero^Plus).to_circuit_op())"
      ]
    },
    {
      "cell_type": "markdown",
      "metadata": {
        "id": "lsOpXHPoJrBc"
      },
      "source": [
        "Tensor powers are constructed using the caret `^` as follows. Here are $600 (|11111\\rangle + |00000\\rangle)$, and $|10\\rangle^{\\otimes 3}$."
      ]
    },
    {
      "cell_type": "code",
      "execution_count": 30,
      "metadata": {
        "colab": {
          "base_uri": "https://localhost:8080/"
        },
        "id": "-BjKXmKLJrBc",
        "outputId": "101e6415-3a64-49bd-a295-2ef10d69584d"
      },
      "outputs": [
        {
          "output_type": "stream",
          "name": "stdout",
          "text": [
            "DictStateFn({'11111': 1.0, '00000': 1.0}) * 600.0\n",
            "DictStateFn({'101010': 1})\n"
          ]
        }
      ],
      "source": [
        "print(600 * ((One^5) + (Zero^5)))\n",
        "print((One^Zero)^3)"
      ]
    },
    {
      "cell_type": "markdown",
      "metadata": {
        "id": "efFFbCafJrBc"
      },
      "source": [
        "The method `to_matrix_op` converts to `VectorStateFn`."
      ]
    },
    {
      "cell_type": "code",
      "execution_count": 31,
      "metadata": {
        "colab": {
          "base_uri": "https://localhost:8080/"
        },
        "id": "fQTx1d5QJrBc",
        "outputId": "328751ab-da45-446d-fedd-2ca4619b66d9"
      },
      "outputs": [
        {
          "output_type": "stream",
          "name": "stdout",
          "text": [
            "VectorStateFn(Statevector([ 0.25-6.1e-17j, -0.25+6.1e-17j,  0.25-6.1e-17j,\n",
            "             -0.25+6.1e-17j, -0.25+6.1e-17j,  0.25-6.1e-17j,\n",
            "             -0.25+6.1e-17j,  0.25-6.1e-17j,  0.25-6.1e-17j,\n",
            "             -0.25+6.1e-17j,  0.25-6.1e-17j, -0.25+6.1e-17j,\n",
            "             -0.25+6.1e-17j,  0.25-6.1e-17j, -0.25+6.1e-17j,\n",
            "              0.25-6.1e-17j],\n",
            "            dims=(2, 2, 2, 2)))\n",
            "CircuitStateFn(\n",
            "     ┌───┐\n",
            "q_0: ┤ X ├\n",
            "     ├───┤\n",
            "q_1: ┤ H ├\n",
            "     ├───┤\n",
            "q_2: ┤ X ├\n",
            "     ├───┤\n",
            "q_3: ┤ H ├\n",
            "     └───┘\n",
            ")\n",
            "{'1101': 0.2685546875, '1111': 0.255859375, '0111': 0.248046875, '0101': 0.2275390625}\n"
          ]
        }
      ],
      "source": [
        "print(((Plus^Minus)^2).to_matrix_op())\n",
        "print(((Plus^One)^2).to_circuit_op())\n",
        "print(((Plus^One)^2).to_matrix_op().sample())"
      ]
    },
    {
      "cell_type": "markdown",
      "metadata": {
        "id": "t0U0OeNcJrBc"
      },
      "source": [
        "Constructing a StateFn is easy. The `StateFn` class also serves as a factory, and can take any applicable primitive in its constructor and return the correct StateFn subclass. Currently the following primitives can be passed into the constructor, listed alongside the `StateFn` subclass they produce:\n",
        "\n",
        "* str (equal to some basis bitstring) -> DictStateFn\n",
        "* dict  -> DictStateFn\n",
        "* Qiskit Result object -> DictStateFn\n",
        "* list -> VectorStateFn\n",
        "* np.ndarray -> VectorStateFn\n",
        "* Statevector -> VectorStateFn\n",
        "* QuantumCircuit -> CircuitStateFn\n",
        "* Instruction -> CircuitStateFn\n",
        "* OperatorBase -> OperatorStateFn"
      ]
    },
    {
      "cell_type": "code",
      "execution_count": 32,
      "metadata": {
        "colab": {
          "base_uri": "https://localhost:8080/"
        },
        "id": "U-77oyVXJrBc",
        "outputId": "bd7a1e7e-056d-4b8d-f0d0-95e19503814a"
      },
      "outputs": [
        {
          "output_type": "stream",
          "name": "stdout",
          "text": [
            "DictStateFn({'0': 1})\n",
            "True\n",
            "VectorStateFn(Statevector([0.+0.j, 1.+0.j, 1.+0.j, 0.+0.j],\n",
            "            dims=(2, 2)))\n",
            "CircuitStateFn(\n",
            "     ┌──────────────────────────────────────────────────────────┐\n",
            "q_0: ┤0                                                         ├\n",
            "     │  RealAmplitudes(θ[0],θ[1],θ[2],θ[3],θ[4],θ[5],θ[6],θ[7]) │\n",
            "q_1: ┤1                                                         ├\n",
            "     └──────────────────────────────────────────────────────────┘\n",
            ")\n"
          ]
        }
      ],
      "source": [
        "print(StateFn({'0':1}))\n",
        "print(StateFn({'0':1}) == Zero)\n",
        "\n",
        "print(StateFn([0,1,1,0]))\n",
        "\n",
        "from qiskit.circuit.library import RealAmplitudes\n",
        "print(StateFn(RealAmplitudes(2)))"
      ]
    },
    {
      "cell_type": "markdown",
      "metadata": {
        "id": "E5wuozEaJrBc"
      },
      "source": [
        "## Part II: `PrimitiveOp`s\n",
        "\n",
        "The basic Operators are subclasses of `PrimitiveOp`. Just like `StateFn`, `PrimitiveOp` is also a factory for creating the correct type of `PrimitiveOp` for a given primitive. Currently, the following primitives can be passed into the constructor, listed alongside the `PrimitiveOp` subclass they produce:\n",
        "\n",
        "* Terra's Pauli -> PauliOp\n",
        "* Instruction -> CircuitOp\n",
        "* QuantumCircuit -> CircuitOp\n",
        "* 2d List -> MatrixOp\n",
        "* np.ndarray -> MatrixOp\n",
        "* spmatrix -> MatrixOp\n",
        "* Terra's quantum_info.Operator -> MatrixOp"
      ]
    },
    {
      "cell_type": "code",
      "execution_count": 33,
      "metadata": {
        "id": "Wq-vUL0iJrBc"
      },
      "outputs": [],
      "source": [
        "from qiskit.opflow import X, Y, Z, I, CX, T, H, S, PrimitiveOp"
      ]
    },
    {
      "cell_type": "markdown",
      "metadata": {
        "id": "jioT6v9cJrBc"
      },
      "source": [
        "### Matrix elements"
      ]
    },
    {
      "cell_type": "markdown",
      "metadata": {
        "id": "gyprKmEeJrBc"
      },
      "source": [
        "The `eval` method returns a column from an operator. For example, the Pauli $X$ operator is represented by a `PauliOp`. Asking for a column returns an instance of the sparse representation, a `DictStateFn`."
      ]
    },
    {
      "cell_type": "code",
      "execution_count": 34,
      "metadata": {
        "colab": {
          "base_uri": "https://localhost:8080/"
        },
        "id": "gekoWNQPJrBc",
        "outputId": "81c18ce1-209a-4105-9b5c-2721120a8bd2"
      },
      "outputs": [
        {
          "output_type": "execute_result",
          "data": {
            "text/plain": [
              "PauliOp(Pauli('X'), coeff=1.0)"
            ]
          },
          "metadata": {},
          "execution_count": 34
        }
      ],
      "source": [
        "X"
      ]
    },
    {
      "cell_type": "code",
      "execution_count": 35,
      "metadata": {
        "colab": {
          "base_uri": "https://localhost:8080/"
        },
        "id": "y_0sPuhJJrBc",
        "outputId": "6a641add-cdd2-4f5c-be13-1dfd4241bd41"
      },
      "outputs": [
        {
          "output_type": "stream",
          "name": "stdout",
          "text": [
            "DictStateFn({'1': (1+0j)})\n"
          ]
        }
      ],
      "source": [
        "print(X.eval('0'))"
      ]
    },
    {
      "cell_type": "markdown",
      "metadata": {
        "id": "G3HjL4WSJrBc"
      },
      "source": [
        "It follows that indexing into an operator, that is obtaining a matrix element, is performed with two calls to the `eval` method."
      ]
    },
    {
      "cell_type": "markdown",
      "metadata": {
        "id": "BucPEi6TJrBc"
      },
      "source": [
        "We have $X = \\left(\\begin{matrix} 0 & 1 \\\\\n",
        "                            1 & 0\n",
        "                            \\end{matrix} \\right)$. And the matrix element $\\left\\{X \\right\\}_{0,1}$ is"
      ]
    },
    {
      "cell_type": "code",
      "execution_count": 36,
      "metadata": {
        "colab": {
          "base_uri": "https://localhost:8080/"
        },
        "id": "oGLosygiJrBc",
        "outputId": "ac9c093f-3e35-4884-abc7-3d86a74d6cd9"
      },
      "outputs": [
        {
          "output_type": "execute_result",
          "data": {
            "text/plain": [
              "(1+0j)"
            ]
          },
          "metadata": {},
          "execution_count": 36
        }
      ],
      "source": [
        "X.eval('0').eval('1')"
      ]
    },
    {
      "cell_type": "markdown",
      "metadata": {
        "id": "Tc7eJ7y4JrBc"
      },
      "source": [
        "Here is an example using the two qubit operator `CX`, the controlled `X`, which is represented by a circuit."
      ]
    },
    {
      "cell_type": "code",
      "execution_count": 37,
      "metadata": {
        "colab": {
          "base_uri": "https://localhost:8080/"
        },
        "id": "-xBvlTR_JrBc",
        "outputId": "999cef1d-8443-4909-fe4a-c0200d6a50d8"
      },
      "outputs": [
        {
          "output_type": "stream",
          "name": "stdout",
          "text": [
            "          \n",
            "q_0: ──■──\n",
            "     ┌─┴─┐\n",
            "q_1: ┤ X ├\n",
            "     └───┘\n",
            "[[1. 0. 0. 0.]\n",
            " [0. 0. 0. 1.]\n",
            " [0. 0. 1. 0.]\n",
            " [0. 1. 0. 0.]]\n"
          ]
        }
      ],
      "source": [
        "print(CX)\n",
        "print(CX.to_matrix().real) # The imaginary part vanishes."
      ]
    },
    {
      "cell_type": "code",
      "execution_count": 38,
      "metadata": {
        "colab": {
          "base_uri": "https://localhost:8080/"
        },
        "id": "GIXE7QapJrBc",
        "outputId": "bf3c021c-0563-4b80-ff73-4a08141f9dee"
      },
      "outputs": [
        {
          "output_type": "execute_result",
          "data": {
            "text/plain": [
              "VectorStateFn(Statevector([0.+0.j, 0.+0.j, 0.+0.j, 1.+0.j],\n",
              "            dims=(2, 2)), coeff=1.0, is_measurement=False)"
            ]
          },
          "metadata": {},
          "execution_count": 38
        }
      ],
      "source": [
        "CX.eval('01')  # 01 is the one in decimal. We get the first column."
      ]
    },
    {
      "cell_type": "code",
      "execution_count": 39,
      "metadata": {
        "colab": {
          "base_uri": "https://localhost:8080/"
        },
        "id": "japPYp-lJrBc",
        "outputId": "552744d9-71c1-4e63-a788-77de9b8d579f"
      },
      "outputs": [
        {
          "output_type": "execute_result",
          "data": {
            "text/plain": [
              "(1+0j)"
            ]
          },
          "metadata": {},
          "execution_count": 39
        }
      ],
      "source": [
        "CX.eval('01').eval('11')  # This returns element with (zero-based) index (1, 3)"
      ]
    },
    {
      "cell_type": "markdown",
      "metadata": {
        "id": "lbOl7V8HJrBd"
      },
      "source": [
        "### Applying an operator to a state vector"
      ]
    },
    {
      "cell_type": "markdown",
      "metadata": {
        "id": "ApTcjNQmJrBd"
      },
      "source": [
        "Applying an operator to a state vector may be done with the `compose` method (equivalently, `@` operator). Here is a representation of $X | 1 \\rangle = |0\\rangle$."
      ]
    },
    {
      "cell_type": "code",
      "execution_count": 40,
      "metadata": {
        "colab": {
          "base_uri": "https://localhost:8080/"
        },
        "id": "VjbgdllAJrBd",
        "outputId": "f7bf288a-b89d-46a1-dc56-a8e7159317bf"
      },
      "outputs": [
        {
          "output_type": "stream",
          "name": "stdout",
          "text": [
            "ComposedOp([\n",
            "  X,\n",
            "  DictStateFn({'1': 1})\n",
            "])\n"
          ]
        }
      ],
      "source": [
        "print(X @ One)"
      ]
    },
    {
      "cell_type": "markdown",
      "metadata": {
        "id": "vvqOfbtgJrBd"
      },
      "source": [
        "A simpler representation, the `DictStateFn` representation of $|0\\rangle$, is obtained with `eval`."
      ]
    },
    {
      "cell_type": "code",
      "execution_count": 41,
      "metadata": {
        "colab": {
          "base_uri": "https://localhost:8080/"
        },
        "id": "DzzgJX3GJrBd",
        "outputId": "66f3a233-afab-4f7f-d21f-7f3ec5f42abe"
      },
      "outputs": [
        {
          "output_type": "execute_result",
          "data": {
            "text/plain": [
              "DictStateFn({'0': (1+0j)}, coeff=(1+0j), is_measurement=False)"
            ]
          },
          "metadata": {},
          "execution_count": 41
        }
      ],
      "source": [
        "(X @ One).eval()"
      ]
    },
    {
      "cell_type": "markdown",
      "metadata": {
        "id": "-me4E0JUJrBd"
      },
      "source": [
        "The intermediate `ComposedOp` step may be avoided by using `eval` directly."
      ]
    },
    {
      "cell_type": "code",
      "execution_count": 42,
      "metadata": {
        "colab": {
          "base_uri": "https://localhost:8080/"
        },
        "id": "wN_SuGvPJrBd",
        "outputId": "08c4288e-ef10-41bd-ff77-95ca13590c07"
      },
      "outputs": [
        {
          "output_type": "execute_result",
          "data": {
            "text/plain": [
              "DictStateFn({'0': (1+0j)}, coeff=(1+0j), is_measurement=False)"
            ]
          },
          "metadata": {},
          "execution_count": 42
        }
      ],
      "source": [
        "X.eval(One)"
      ]
    },
    {
      "cell_type": "markdown",
      "source": [
        "#Juans custum operator"
      ],
      "metadata": {
        "id": "TjfxFL0vLShi"
      }
    },
    {
      "cell_type": "code",
      "source": [
        "from math import *\n",
        "i = StateFn([1/sqrt(2), 1j/sqrt(2)])\n",
        "print(i^i)\n",
        "\n",
        "# XX = Operator([[0, 0, 0, 1], [0, 0, 1, 0], [0, 1, 0, 0], [1, 0, 0, 0]])\n"
      ],
      "metadata": {
        "colab": {
          "base_uri": "https://localhost:8080/"
        },
        "id": "G1kS_grCLR70",
        "outputId": "928039d2-fec3-4543-e306-c4f45b7cadcc"
      },
      "execution_count": 43,
      "outputs": [
        {
          "output_type": "stream",
          "name": "stdout",
          "text": [
            "VectorStateFn(Statevector([ 0.5+0.j ,  0. +0.5j,  0. +0.5j, -0.5+0.j ],\n",
            "            dims=(2, 2)))\n"
          ]
        }
      ]
    },
    {
      "cell_type": "markdown",
      "source": [
        "#circuit play\n"
      ],
      "metadata": {
        "id": "pPijq1jCirzq"
      }
    },
    {
      "cell_type": "code",
      "source": [
        "from qiskit import QuantumCircuit, execute, Aer\n",
        "\n",
        "qc = QuantumCircuit(3)\n",
        "qc.initialize(\"010\")\n",
        "\n",
        "qc.h(0)\n",
        "# qc.cx(0, range(1, 3))\n",
        "qc.cswap(0, 1, 2)\n",
        "qc.h(0)\n",
        "\n",
        "# qc.measure_all()\n",
        "qc.draw()\n",
        "\n"
      ],
      "metadata": {
        "id": "tcSrlBseiuIk",
        "outputId": "567dd695-71e1-401a-8692-4fcc2c8aa6c8",
        "colab": {
          "base_uri": "https://localhost:8080/",
          "height": 125
        }
      },
      "execution_count": 136,
      "outputs": [
        {
          "output_type": "execute_result",
          "data": {
            "text/plain": [
              "     ┌────────────────────┐┌───┐   ┌───┐\n",
              "q_0: ┤0                   ├┤ H ├─■─┤ H ├\n",
              "     │                    │└───┘ │ └───┘\n",
              "q_1: ┤1 Initialize(0,1,0) ├──────X──────\n",
              "     │                    │      │      \n",
              "q_2: ┤2                   ├──────X──────\n",
              "     └────────────────────┘             "
            ],
            "text/html": [
              "<pre style=\"word-wrap: normal;white-space: pre;background: #fff0;line-height: 1.1;font-family: &quot;Courier New&quot;,Courier,monospace\">     ┌────────────────────┐┌───┐   ┌───┐\n",
              "q_0: ┤0                   ├┤ H ├─■─┤ H ├\n",
              "     │                    │└───┘ │ └───┘\n",
              "q_1: ┤1 Initialize(0,1,0) ├──────X──────\n",
              "     │                    │      │      \n",
              "q_2: ┤2                   ├──────X──────\n",
              "     └────────────────────┘             </pre>"
            ]
          },
          "metadata": {},
          "execution_count": 136
        }
      ]
    },
    {
      "cell_type": "code",
      "source": [
        "from qiskit.quantum_info import Statevector\n",
        "\n",
        "statevector = Statevector(qc)\n",
        "print(statevector)\n",
        "\n",
        "\n",
        "# backend = Aer.get_backend(\"statevector_simulator\")\n",
        "# result = execute(qc, backend=backend, shots=1).result()\n",
        "# print('State after first measurement:', result.get_statevector() )\n",
        "\n"
      ],
      "metadata": {
        "id": "01szknYGrDkv",
        "outputId": "090d1cc7-c604-4e68-c502-86d17d511566",
        "colab": {
          "base_uri": "https://localhost:8080/"
        }
      },
      "execution_count": 137,
      "outputs": [
        {
          "output_type": "stream",
          "name": "stdout",
          "text": [
            "Statevector([ 0. +0.j,  0. +0.j,  0.5+0.j,  0.5+0.j,  0.5+0.j, -0.5+0.j,\n",
            "              0. +0.j,  0. +0.j],\n",
            "            dims=(2, 2, 2))\n"
          ]
        }
      ]
    },
    {
      "cell_type": "markdown",
      "source": [
        "#juan ends\n"
      ],
      "metadata": {
        "id": "hb7IwDZeiuth"
      }
    },
    {
      "cell_type": "markdown",
      "metadata": {
        "id": "KOumGdGdJrBd"
      },
      "source": [
        "Composition and tensor products of operators are effected with `@` and `^`. Here are some examples."
      ]
    },
    {
      "cell_type": "code",
      "execution_count": 45,
      "metadata": {
        "colab": {
          "base_uri": "https://localhost:8080/"
        },
        "id": "wxx-N6QaJrBd",
        "outputId": "3ae63115-2a65-4a42-a6ab-e9021a7137e5"
      },
      "outputs": [
        {
          "output_type": "stream",
          "name": "stdout",
          "text": [
            "(1+0j)\n",
            "          ┌───┐          ┌───┐     \n",
            "q_0: ──■──┤ H ├───────■──┤ H ├─────\n",
            "     ┌─┴─┐└───┘┌───┐┌─┴─┐└───┘┌───┐\n",
            "q_1: ┤ X ├──■──┤ H ├┤ X ├──■──┤ H ├\n",
            "     └───┘┌─┴─┐├───┤└───┘┌─┴─┐├───┤\n",
            "q_2: ──■──┤ X ├┤ H ├──■──┤ X ├┤ H ├\n",
            "     ┌─┴─┐└───┘├───┤┌─┴─┐└───┘├───┤\n",
            "q_3: ┤ X ├──■──┤ H ├┤ X ├──■──┤ H ├\n",
            "     └───┘┌─┴─┐├───┤└───┘┌─┴─┐├───┤\n",
            "q_4: ─────┤ X ├┤ H ├─────┤ X ├┤ H ├\n",
            "          └───┘└───┘     └───┘└───┘\n",
            "CircuitStateFn(\n",
            "     ┌───┐┌───┐     ┌───┐          ┌───┐     \n",
            "q_0: ┤ X ├┤ H ├──■──┤ H ├───────■──┤ H ├─────\n",
            "     ├───┤├───┤┌─┴─┐└───┘┌───┐┌─┴─┐└───┘┌───┐\n",
            "q_1: ┤ X ├┤ H ├┤ X ├──■──┤ H ├┤ X ├──■──┤ H ├\n",
            "     ├───┤├───┤└───┘┌─┴─┐├───┤└───┘┌─┴─┐├───┤\n",
            "q_2: ┤ X ├┤ H ├──■──┤ X ├┤ H ├──■──┤ X ├┤ H ├\n",
            "     ├───┤├───┤┌─┴─┐└───┘├───┤┌─┴─┐└───┘├───┤\n",
            "q_3: ┤ X ├┤ H ├┤ X ├──■──┤ H ├┤ X ├──■──┤ H ├\n",
            "     ├───┤├───┤└───┘┌─┴─┐├───┤└───┘┌─┴─┐├───┤\n",
            "q_4: ┤ X ├┤ H ├─────┤ X ├┤ H ├─────┤ X ├┤ H ├\n",
            "     └───┘└───┘     └───┘└───┘     └───┘└───┘\n",
            ")\n",
            "CircuitStateFn(\n",
            "     ┌─────────────┐     \n",
            "q_0: ┤0            ├─────\n",
            "     │             │     \n",
            "q_1: ┤1 Pauli(XII) ├─────\n",
            "     │             │┌───┐\n",
            "q_2: ┤2            ├┤ H ├\n",
            "     └─────────────┘└───┘\n",
            ")\n"
          ]
        }
      ],
      "source": [
        "print(((~One^2) @ (CX.eval('01'))).eval())\n",
        "\n",
        "print(((H^5) @ ((CX^2)^I) @ (I^(CX^2)))**2)\n",
        "print((((H^5) @ ((CX^2)^I) @ (I^(CX^2)))**2) @ (Minus^5))\n",
        "print(((H^I^I)@(X^I^I)@Zero))"
      ]
    },
    {
      "cell_type": "code",
      "execution_count": 46,
      "metadata": {
        "colab": {
          "base_uri": "https://localhost:8080/"
        },
        "id": "bP-L_4gZJrBd",
        "outputId": "bd025f35-b3f3-46cf-faf6-9e69fb131e6a"
      },
      "outputs": [
        {
          "output_type": "stream",
          "name": "stdout",
          "text": [
            "ComposedOp([\n",
            "  DictMeasurement({'1': 1}),\n",
            "  CircuitStateFn(\n",
            "     ┌───┐┌───┐\n",
            "  q: ┤ X ├┤ H ├\n",
            "     └───┘└───┘\n",
            "  )\n",
            "])\n"
          ]
        }
      ],
      "source": [
        "print(~One @ Minus)"
      ]
    },
    {
      "cell_type": "markdown",
      "metadata": {
        "id": "zFDDL41SJrBd"
      },
      "source": [
        "## Part III `ListOp` and subclasses"
      ]
    },
    {
      "cell_type": "markdown",
      "metadata": {
        "id": "qLN-AcEDJrBd"
      },
      "source": [
        "### `ListOp`\n",
        "\n",
        "`ListOp` is a container for effectively vectorizing operations over a list of operators and states."
      ]
    },
    {
      "cell_type": "code",
      "execution_count": 47,
      "metadata": {
        "colab": {
          "base_uri": "https://localhost:8080/"
        },
        "id": "5Obu0Oe5JrBd",
        "outputId": "f4959825-e2e4-46ee-b558-e6ae5e5f7a56"
      },
      "outputs": [
        {
          "output_type": "stream",
          "name": "stdout",
          "text": [
            "ComposedOp([\n",
            "  ListOp([\n",
            "    DictMeasurement({'1': 1}),\n",
            "    DictMeasurement({'0': 1})\n",
            "  ]),\n",
            "  ListOp([\n",
            "    DictStateFn({'1': 1}),\n",
            "    DictStateFn({'0': 1})\n",
            "  ])\n",
            "])\n"
          ]
        }
      ],
      "source": [
        "from qiskit.opflow import ListOp\n",
        "\n",
        "print((~ListOp([One, Zero]) @ ListOp([One, Zero])))"
      ]
    },
    {
      "cell_type": "markdown",
      "metadata": {
        "id": "jwhFpA3XJrBd"
      },
      "source": [
        "For example, the composition above is distributed over the lists (`ListOp`) using the simplification method `reduce`."
      ]
    },
    {
      "cell_type": "code",
      "execution_count": 48,
      "metadata": {
        "colab": {
          "base_uri": "https://localhost:8080/"
        },
        "id": "SSaRjhyNJrBd",
        "outputId": "4e55484d-1cf0-43cd-cf5e-4f47fafb8717"
      },
      "outputs": [
        {
          "output_type": "stream",
          "name": "stdout",
          "text": [
            "ListOp([\n",
            "  ListOp([\n",
            "    ComposedOp([\n",
            "      DictMeasurement({'1': 1}),\n",
            "      DictStateFn({'1': 1})\n",
            "    ]),\n",
            "    ComposedOp([\n",
            "      DictMeasurement({'1': 1}),\n",
            "      DictStateFn({'0': 1})\n",
            "    ])\n",
            "  ]),\n",
            "  ListOp([\n",
            "    ComposedOp([\n",
            "      DictMeasurement({'0': 1}),\n",
            "      DictStateFn({'1': 1})\n",
            "    ]),\n",
            "    ComposedOp([\n",
            "      DictMeasurement({'0': 1}),\n",
            "      DictStateFn({'0': 1})\n",
            "    ])\n",
            "  ])\n",
            "])\n"
          ]
        }
      ],
      "source": [
        "print((~ListOp([One, Zero]) @ ListOp([One, Zero])).reduce())"
      ]
    },
    {
      "cell_type": "markdown",
      "metadata": {
        "id": "uiBQjlD-JrBd"
      },
      "source": [
        "### `ListOp`s: `SummedOp`, `ComposedOp`, `TensoredOp`\n",
        "\n",
        "`ListOp`, introduced above, is useful for vectorizing operations. But, it also serves as the superclass for list-like composite classes.\n",
        "If you've already played around with the above, you'll notice that you can easily perform operations between `OperatorBase`s which we may not know how to perform efficiently in general (or simply haven't implemented an efficient procedure for yet), such as addition between `CircuitOp`s. In those cases, you may receive a `ListOp` result (or subclass thereof) from your operation representing the lazy execution of the operation. For example, if you attempt to add together a `DictStateFn` and a `CircuitStateFn`, you'll receive a `SummedOp` representing the sum of the two. This composite State function still has a working `eval` (but may need to perform a non-scalable computation under the hood, such as converting both to vectors).\n",
        "\n",
        "These composite `OperatorBase`s are how we construct increasingly complex and rich computation out of `PrimitiveOp` and `StateFn` building blocks.\n",
        "\n",
        "Every `ListOp` has four properties:\n",
        "* `oplist` - The list of `OperatorBase`s which may represent terms, factors, etc.\n",
        "* `combo_fn` - The function taking a list of complex numbers to an output value which defines how to combine the outputs of the `oplist` items. For broadcasting simplicity, this function is defined over NumPy arrays.\n",
        "* `coeff` - A coefficient multiplying the primitive. Note that `coeff` can be int, float, complex or a free `Parameter` object (from `qiskit.circuit` in Terra) to be bound later using `my_op.bind_parameters`.\n",
        "* `abelian` - Indicates whether the Operators in `oplist` are known to mutually commute (usually set after being converted by the `AbelianGrouper` converter).\n",
        "\n",
        "Note that `ListOp` supports typical iteration overloads, so you can use indexing like `my_op[4]` to access the `OperatorBase`s in `oplist`."
      ]
    },
    {
      "cell_type": "markdown",
      "metadata": {
        "id": "v2i-JRkRJrBd"
      },
      "source": [
        "### `OperatorStateFn`\n",
        "\n",
        "We mentioned above that `OperatorStateFn` represents a density operator. But, if the `is_measurement` flag is `True`, then `OperatorStateFn` represents an observable. The expectation value of this observable can then be constructed via `ComposedOp`. Or, directly, using `eval`. Recall that the `is_measurement` flag (property) is set via the `adjoint` method."
      ]
    },
    {
      "cell_type": "markdown",
      "metadata": {
        "id": "H_AmwuM_JrBd"
      },
      "source": [
        "Here we construct the observable corresponding to the Pauli $Z$ operator. Note that when printing, it is called `OperatorMeasurement`."
      ]
    },
    {
      "cell_type": "code",
      "execution_count": 49,
      "metadata": {
        "colab": {
          "base_uri": "https://localhost:8080/"
        },
        "id": "pvO-4zoqJrBd",
        "outputId": "88d42674-3ad0-43f5-f906-77feccf7d770"
      },
      "outputs": [
        {
          "output_type": "stream",
          "name": "stdout",
          "text": [
            "OperatorMeasurement(Z)\n"
          ]
        },
        {
          "output_type": "execute_result",
          "data": {
            "text/plain": [
              "OperatorStateFn(PauliOp(Pauli('Z'), coeff=1.0), coeff=1.0, is_measurement=True)"
            ]
          },
          "metadata": {},
          "execution_count": 49
        }
      ],
      "source": [
        "print(StateFn(Z).adjoint())\n",
        "StateFn(Z).adjoint()"
      ]
    },
    {
      "cell_type": "markdown",
      "metadata": {
        "id": "L7z4JlVoJrBd"
      },
      "source": [
        "Here, we compute $\\langle 0 | Z | 0 \\rangle$, $\\langle 1 | Z | 1 \\rangle$, and $\\langle + | Z | + \\rangle$, where $|+\\rangle = (|0\\rangle + |1\\rangle)/\\sqrt{2}$."
      ]
    },
    {
      "cell_type": "code",
      "execution_count": 50,
      "metadata": {
        "colab": {
          "base_uri": "https://localhost:8080/"
        },
        "id": "9N27L07cJrBd",
        "outputId": "636a6915-25ac-4ef2-f709-838aff90b72c"
      },
      "outputs": [
        {
          "output_type": "stream",
          "name": "stdout",
          "text": [
            "(1+0j)\n",
            "(-1+0j)\n",
            "0j\n"
          ]
        }
      ],
      "source": [
        "print(StateFn(Z).adjoint().eval(Zero))\n",
        "print(StateFn(Z).adjoint().eval(One))\n",
        "print(StateFn(Z).adjoint().eval(Plus))"
      ]
    },
    {
      "cell_type": "markdown",
      "metadata": {
        "id": "S-G0bEZsJrBe"
      },
      "source": [
        "## Part IV: Converters\n",
        "\n",
        "Converters are classes that manipulate operators and states and perform building blocks of algorithms. Examples include changing the basis of operators and Trotterization.\n",
        "Converters traverse an expression and perform a particular manipulation or replacement, defined by the converter's `convert()` method, of the Operators within. Typically, if a converter encounters an `OperatorBase` in the recursion which is irrelevant to its conversion purpose, that `OperatorBase` is left unchanged."
      ]
    },
    {
      "cell_type": "code",
      "execution_count": 51,
      "metadata": {
        "id": "IaasqW_aJrBe"
      },
      "outputs": [],
      "source": [
        "import numpy as np\n",
        "from qiskit.opflow import I, X, Y, Z, H, CX, Zero, ListOp, PauliExpectation, PauliTrotterEvolution, CircuitSampler, MatrixEvolution, Suzuki\n",
        "from qiskit.circuit import Parameter\n",
        "from qiskit import Aer"
      ]
    },
    {
      "cell_type": "markdown",
      "metadata": {
        "id": "uN5uw8ZkJrBe"
      },
      "source": [
        "### Evolutions, `exp_i()`, and the `EvolvedOp`\n",
        "\n",
        "Every `PrimitiveOp` and `ListOp` has an `.exp_i()` function such that `H.exp_i()` corresponds to $e^{-iH}$. In practice, only a few of these Operators have an efficiently computable exponentiation (such as MatrixOp and the PauliOps with only one non-identity single-qubit Pauli), so we need to return a placeholder, or symbolic representation, (similar to how `SummedOp` is a placeholder when we can't perform addition). This placeholder is called `EvolvedOp`, and it holds the `OperatorBase` to be exponentiated in its `.primitive` property.\n",
        "\n",
        "Qiskit operators fully support parameterization, so we can use a `Parameter` for our evolution time here. Notice that there's no \"evolution time\" argument in any function. The Operator flow exponentiates whatever operator we tell it to, and if we choose to multiply the operator by an evolution time, $e^{-iHt}$, that will be reflected in our exponentiation parameters."
      ]
    },
    {
      "cell_type": "markdown",
      "metadata": {
        "id": "9JrKSebzJrBe"
      },
      "source": [
        "#### Weighted sum of Pauli operators\n",
        "A Hamiltonian expressed as a linear combination of multi-qubit Pauli operators may be constructed like this."
      ]
    },
    {
      "cell_type": "code",
      "execution_count": 52,
      "metadata": {
        "id": "f0SwZ2DSJrBe"
      },
      "outputs": [],
      "source": [
        "two_qubit_H2 =  (-1.0523732 * I^I) + \\\n",
        "                (0.39793742 * I^Z) + \\\n",
        "                (-0.3979374 * Z^I) + \\\n",
        "                (-0.0112801 * Z^Z) + \\\n",
        "                (0.18093119 * X^X)"
      ]
    },
    {
      "cell_type": "markdown",
      "metadata": {
        "id": "CtXtdffEJrBe"
      },
      "source": [
        "Note that `two_qubit_H2` is represented as a `SummedOp` whose terms are `PauliOp`s."
      ]
    },
    {
      "cell_type": "code",
      "execution_count": 53,
      "metadata": {
        "colab": {
          "base_uri": "https://localhost:8080/"
        },
        "id": "9W47icdVJrBe",
        "outputId": "786e197e-13f3-4509-c2bd-729b5ada3410"
      },
      "outputs": [
        {
          "output_type": "stream",
          "name": "stdout",
          "text": [
            "-1.0523732 * II\n",
            "+ 0.39793742 * IZ\n",
            "- 0.3979374 * ZI\n",
            "- 0.0112801 * ZZ\n",
            "+ 0.18093119 * XX\n"
          ]
        }
      ],
      "source": [
        "print(two_qubit_H2)"
      ]
    },
    {
      "cell_type": "markdown",
      "metadata": {
        "id": "PRb3dRLyJrBe"
      },
      "source": [
        "Next, we multiply the Hamiltonian by a `Parameter`. This `Parameter` is stored in the `coeff` property of the `SummedOp`. Calling `exp_i()` on the result wraps it in `EvolvedOp`, representing exponentiation."
      ]
    },
    {
      "cell_type": "code",
      "execution_count": 54,
      "metadata": {
        "colab": {
          "base_uri": "https://localhost:8080/"
        },
        "id": "wCdLkwo0JrBe",
        "outputId": "04ad0f92-ef76-4c30-e055-5b055f3cfc4d"
      },
      "outputs": [
        {
          "output_type": "stream",
          "name": "stdout",
          "text": [
            "e^(-i*1.0*θ * (\n",
            "  -1.0523732 * II\n",
            "  + 0.39793742 * IZ\n",
            "  - 0.3979374 * ZI\n",
            "  - 0.0112801 * ZZ\n",
            "  + 0.18093119 * XX\n",
            "))\n",
            "EvolvedOp(PauliSumOp(SparsePauliOp(['II', 'IZ', 'ZI', 'ZZ', 'XX'],\n",
            "              coeffs=[-1.0523732 +0.j,  0.39793742+0.j, -0.3979374 +0.j, -0.0112801 +0.j,\n",
            "  0.18093119+0.j]), coeff=1.0*θ), coeff=1.0)\n"
          ]
        }
      ],
      "source": [
        "evo_time = Parameter('θ')\n",
        "evolution_op = (evo_time*two_qubit_H2).exp_i()\n",
        "print(evolution_op) # Note, EvolvedOps print as exponentiations\n",
        "print(repr(evolution_op))"
      ]
    },
    {
      "cell_type": "markdown",
      "metadata": {
        "id": "r5Xzna_3JrBe"
      },
      "source": [
        "We construct `h2_measurement`, which represents `two_qubit_H2` as an observable."
      ]
    },
    {
      "cell_type": "code",
      "execution_count": 55,
      "metadata": {
        "colab": {
          "base_uri": "https://localhost:8080/"
        },
        "id": "IOAoSWDUJrBe",
        "outputId": "f07d7da2-e556-4a18-aa50-505fc9d88cf1"
      },
      "outputs": [
        {
          "output_type": "stream",
          "name": "stdout",
          "text": [
            "OperatorMeasurement(-1.0523732 * II\n",
            "+ 0.39793742 * IZ\n",
            "- 0.3979374 * ZI\n",
            "- 0.0112801 * ZZ\n",
            "+ 0.18093119 * XX)\n"
          ]
        }
      ],
      "source": [
        "h2_measurement = StateFn(two_qubit_H2).adjoint()\n",
        "print(h2_measurement)"
      ]
    },
    {
      "cell_type": "markdown",
      "metadata": {
        "id": "yPxJY7X1JrBe"
      },
      "source": [
        "We construct a Bell state $|\\Phi_+\\rangle$ via $\\text{CX} (H\\otimes I) |00\\rangle$."
      ]
    },
    {
      "cell_type": "code",
      "execution_count": 56,
      "metadata": {
        "colab": {
          "base_uri": "https://localhost:8080/"
        },
        "id": "oUFcZVyoJrBe",
        "outputId": "e6c270d9-6532-4460-df49-d3bb09af6400"
      },
      "outputs": [
        {
          "output_type": "stream",
          "name": "stdout",
          "text": [
            "CircuitStateFn(\n",
            "     ┌───┐     \n",
            "q_0: ┤ H ├──■──\n",
            "     └───┘┌─┴─┐\n",
            "q_1: ─────┤ X ├\n",
            "          └───┘\n",
            ")\n"
          ]
        }
      ],
      "source": [
        "bell = CX @ (I ^ H) @ Zero\n",
        "print(bell)"
      ]
    },
    {
      "cell_type": "markdown",
      "metadata": {
        "id": "hBK43l_eJrBe"
      },
      "source": [
        "Here is the expression $H e^{-iHt} |\\Phi_+\\rangle$."
      ]
    },
    {
      "cell_type": "code",
      "execution_count": 57,
      "metadata": {
        "colab": {
          "base_uri": "https://localhost:8080/"
        },
        "id": "3Qz8jKMPJrBe",
        "outputId": "d376c262-884f-44bc-dd34-30cfc18f1cbb"
      },
      "outputs": [
        {
          "output_type": "stream",
          "name": "stdout",
          "text": [
            "ComposedOp([\n",
            "  OperatorMeasurement(-1.0523732 * II\n",
            "  + 0.39793742 * IZ\n",
            "  - 0.3979374 * ZI\n",
            "  - 0.0112801 * ZZ\n",
            "  + 0.18093119 * XX),\n",
            "  e^(-i*1.0*θ * (\n",
            "    -1.0523732 * II\n",
            "    + 0.39793742 * IZ\n",
            "    - 0.3979374 * ZI\n",
            "    - 0.0112801 * ZZ\n",
            "    + 0.18093119 * XX\n",
            "  )),\n",
            "  CircuitStateFn(\n",
            "       ┌───┐     \n",
            "  q_0: ┤ H ├──■──\n",
            "       └───┘┌─┴─┐\n",
            "  q_1: ─────┤ X ├\n",
            "            └───┘\n",
            "  )\n",
            "])\n"
          ]
        }
      ],
      "source": [
        "evo_and_meas = h2_measurement @ evolution_op @ bell\n",
        "print(evo_and_meas)"
      ]
    },
    {
      "cell_type": "markdown",
      "metadata": {
        "id": "tfgcZtN9JrBe"
      },
      "source": [
        "Typically, we want to approximate $e^{-iHt}$ using two-qubit gates. We achieve this with the `convert` method of `PauliTrotterEvolution`, which traverses expressions applying trotterization to all `EvolvedOp`s encountered. Although we use `PauliTrotterEvolution` here, there are other possibilities, such as `MatrixEvolution`, which performs the exponentiation exactly."
      ]
    },
    {
      "cell_type": "code",
      "execution_count": 58,
      "metadata": {
        "colab": {
          "base_uri": "https://localhost:8080/"
        },
        "id": "ZcIPI_-zJrBe",
        "outputId": "02ea8152-3429-4cfc-c093-830e2887bef2"
      },
      "outputs": [
        {
          "output_type": "stream",
          "name": "stdout",
          "text": [
            "ComposedOp([\n",
            "  OperatorMeasurement(-1.0523732 * II\n",
            "  + 0.39793742 * IZ\n",
            "  - 0.3979374 * ZI\n",
            "  - 0.0112801 * ZZ\n",
            "  + 0.18093119 * XX),\n",
            "  CircuitStateFn(\n",
            "       ┌───┐     ┌────────────────────────────────────────┐\n",
            "  q_0: ┤ H ├──■──┤0                                       ├\n",
            "       └───┘┌─┴─┐│  exp(-i II + IZ + ZI + ZZ + XX)(1.0*θ) │\n",
            "  q_1: ─────┤ X ├┤1                                       ├\n",
            "            └───┘└────────────────────────────────────────┘\n",
            "  )\n",
            "])\n"
          ]
        }
      ],
      "source": [
        "trotterized_op = PauliTrotterEvolution(trotter_mode=Suzuki(order=2, reps=1)).convert(evo_and_meas)\n",
        "# We can also set trotter_mode='suzuki' or leave it empty to default to first order Trotterization.\n",
        "print(trotterized_op)"
      ]
    },
    {
      "cell_type": "markdown",
      "metadata": {
        "id": "vofP593mJrBe"
      },
      "source": [
        "`trotterized_op` contains a `Parameter`. The `bind_parameters` method traverses the expression binding values to parameter names as specified via a `dict`. In this case, there is only one parameter."
      ]
    },
    {
      "cell_type": "code",
      "execution_count": 59,
      "metadata": {
        "id": "YuXDqEEvJrBf"
      },
      "outputs": [],
      "source": [
        "bound = trotterized_op.bind_parameters({evo_time: .5})"
      ]
    },
    {
      "cell_type": "markdown",
      "metadata": {
        "id": "JxUdoQKSJrBf"
      },
      "source": [
        "`bound` is a `ComposedOp`. The second factor is the circuit. Let's draw it to verify that the binding has taken place."
      ]
    },
    {
      "cell_type": "code",
      "execution_count": 60,
      "metadata": {
        "colab": {
          "base_uri": "https://localhost:8080/",
          "height": 94
        },
        "id": "21ZuHLGjJrBf",
        "outputId": "d85331eb-ba56-4b19-d0a8-bc620b04abd4"
      },
      "outputs": [
        {
          "output_type": "execute_result",
          "data": {
            "text/plain": [
              "     ┌───┐     ┌──────────────────────────────────────┐\n",
              "q_0: ┤ H ├──■──┤0                                     ├\n",
              "     └───┘┌─┴─┐│  exp(-i II + IZ + ZI + ZZ + XX)(0.5) │\n",
              "q_1: ─────┤ X ├┤1                                     ├\n",
              "          └───┘└──────────────────────────────────────┘"
            ],
            "text/html": [
              "<pre style=\"word-wrap: normal;white-space: pre;background: #fff0;line-height: 1.1;font-family: &quot;Courier New&quot;,Courier,monospace\">     ┌───┐     ┌──────────────────────────────────────┐\n",
              "q_0: ┤ H ├──■──┤0                                     ├\n",
              "     └───┘┌─┴─┐│  exp(-i II + IZ + ZI + ZZ + XX)(0.5) │\n",
              "q_1: ─────┤ X ├┤1                                     ├\n",
              "          └───┘└──────────────────────────────────────┘</pre>"
            ]
          },
          "metadata": {},
          "execution_count": 60
        }
      ],
      "source": [
        "bound[1].to_circuit().draw()"
      ]
    },
    {
      "cell_type": "markdown",
      "metadata": {
        "id": "msQGzPE-JrBf"
      },
      "source": [
        "### Expectations\n",
        "\n",
        "`Expectation`s are converters that enable the computation of expectation values of observables. They traverse an Operator tree, replacing `OperatorStateFn`s (observables) with equivalent instructions which are more amenable to\n",
        "computation on quantum or classical hardware. For example, if we want to measure the expectation value of an Operator `o` expressed as a sum of Paulis with respect to some state function, but can only access diagonal measurements on quantum hardware, we can create an observable `~StateFn(o)` and use a ``PauliExpectation`` to convert it to a diagonal measurement and circuit pre-rotations to append to the state.\n",
        "\n",
        "Another interesting `Expectation` is the `AerPauliExpectation`, which converts the observable into a `CircuitStateFn` containing a special expectation snapshot instruction which `Aer` can execute natively with high performance."
      ]
    },
    {
      "cell_type": "code",
      "execution_count": 61,
      "metadata": {
        "colab": {
          "base_uri": "https://localhost:8080/"
        },
        "id": "QQ9--JtxJrBf",
        "outputId": "6d5553fd-9c80-4c46-f8dd-1f7e72262497"
      },
      "outputs": [
        {
          "output_type": "stream",
          "name": "stdout",
          "text": [
            "SummedOp([\n",
            "  ComposedOp([\n",
            "    OperatorMeasurement(-1.0523732 * II),\n",
            "    II\n",
            "  ]),\n",
            "  ComposedOp([\n",
            "    OperatorMeasurement(0.39793742 * IZ),\n",
            "    II\n",
            "  ]),\n",
            "  ComposedOp([\n",
            "    OperatorMeasurement(-0.3979374 * ZI),\n",
            "    II\n",
            "  ]),\n",
            "  ComposedOp([\n",
            "    OperatorMeasurement(-0.0112801 * ZZ),\n",
            "    II\n",
            "  ]),\n",
            "  ComposedOp([\n",
            "    OperatorMeasurement(0.18093119 * ZZ),\n",
            "         ┌───┐\n",
            "    q_0: ┤ H ├\n",
            "         ├───┤\n",
            "    q_1: ┤ H ├\n",
            "         └───┘\n",
            "  ])\n",
            "])\n"
          ]
        }
      ],
      "source": [
        "# Note that XX was the only non-diagonal measurement in our H2 Observable\n",
        "print(PauliExpectation(group_paulis=False).convert(h2_measurement))"
      ]
    },
    {
      "cell_type": "markdown",
      "metadata": {
        "id": "xpieg603JrBf"
      },
      "source": [
        "By default `group_paulis=True`, which will use the `AbelianGrouper` to convert the `SummedOp` into groups of mutually qubit-wise commuting Paulis. This reduces circuit execution overhead, as each group can share the same circuit execution."
      ]
    },
    {
      "cell_type": "code",
      "execution_count": 62,
      "metadata": {
        "colab": {
          "base_uri": "https://localhost:8080/"
        },
        "id": "zXB96pHQJrBf",
        "outputId": "6fb8a255-a047-4f0c-f75d-7431a2a4c9e0"
      },
      "outputs": [
        {
          "output_type": "stream",
          "name": "stdout",
          "text": [
            "SummedOp([\n",
            "  ComposedOp([\n",
            "    OperatorMeasurement(0.18093119 * ZZ\n",
            "    - 1.0523732 * II),\n",
            "         ┌───┐\n",
            "    q_0: ┤ H ├\n",
            "         ├───┤\n",
            "    q_1: ┤ H ├\n",
            "         └───┘\n",
            "  ]),\n",
            "  ComposedOp([\n",
            "    OperatorMeasurement(0.39793742 * IZ\n",
            "    - 0.3979374 * ZI\n",
            "    - 0.0112801 * ZZ),\n",
            "    II\n",
            "  ])\n",
            "])\n"
          ]
        }
      ],
      "source": [
        "print(PauliExpectation().convert(h2_measurement))"
      ]
    },
    {
      "cell_type": "markdown",
      "metadata": {
        "id": "HpiCVdCcJrBf"
      },
      "source": [
        "Note that converters act recursively, that is, they traverse an expression applying their action only where possible. So we can just convert our full evolution and measurement expression. We could have equivalently composed the converted `h2_measurement` with our evolution `CircuitStateFn`. We proceed by applying the conversion on the entire expression."
      ]
    },
    {
      "cell_type": "code",
      "execution_count": 63,
      "metadata": {
        "scrolled": true,
        "colab": {
          "base_uri": "https://localhost:8080/"
        },
        "id": "VX3jrlszJrBf",
        "outputId": "a372f878-a1b2-425c-fe10-366ed8050563"
      },
      "outputs": [
        {
          "output_type": "stream",
          "name": "stdout",
          "text": [
            "SummedOp([\n",
            "  ComposedOp([\n",
            "    OperatorMeasurement(0.18093119 * ZZ\n",
            "    - 1.0523732 * II),\n",
            "    CircuitStateFn(\n",
            "         ┌───┐     ┌────────────────────────────────────────┐┌───┐\n",
            "    q_0: ┤ H ├──■──┤0                                       ├┤ H ├\n",
            "         └───┘┌─┴─┐│  exp(-i II + IZ + ZI + ZZ + XX)(1.0*θ) │├───┤\n",
            "    q_1: ─────┤ X ├┤1                                       ├┤ H ├\n",
            "              └───┘└────────────────────────────────────────┘└───┘\n",
            "    )\n",
            "  ]),\n",
            "  ComposedOp([\n",
            "    OperatorMeasurement(0.39793742 * IZ\n",
            "    - 0.3979374 * ZI\n",
            "    - 0.0112801 * ZZ),\n",
            "    CircuitStateFn(\n",
            "         ┌───┐     ┌────────────────────────────────────────┐\n",
            "    q_0: ┤ H ├──■──┤0                                       ├\n",
            "         └───┘┌─┴─┐│  exp(-i II + IZ + ZI + ZZ + XX)(1.0*θ) │\n",
            "    q_1: ─────┤ X ├┤1                                       ├\n",
            "              └───┘└────────────────────────────────────────┘\n",
            "    )\n",
            "  ])\n",
            "])\n"
          ]
        }
      ],
      "source": [
        "diagonalized_meas_op = PauliExpectation().convert(trotterized_op)\n",
        "print(diagonalized_meas_op)"
      ]
    },
    {
      "cell_type": "markdown",
      "metadata": {
        "id": "67VXtIxQJrBf"
      },
      "source": [
        "Now we bind multiple parameter values into a `ListOp`, followed by `eval` to evaluate the entire expression. We could have used `eval` earlier if we bound earlier, but it would not be efficient. Here, `eval` will convert our `CircuitStateFn`s to `VectorStateFn`s through simulation internally."
      ]
    },
    {
      "cell_type": "code",
      "execution_count": 64,
      "metadata": {
        "id": "wnqiUhSfJrBf"
      },
      "outputs": [],
      "source": [
        "evo_time_points = list(range(8))\n",
        "h2_trotter_expectations = diagonalized_meas_op.bind_parameters({evo_time: evo_time_points})"
      ]
    },
    {
      "cell_type": "markdown",
      "metadata": {
        "id": "_Z9HPmS8JrBf"
      },
      "source": [
        "Here are the expectation values $\\langle \\Phi_+| e^{iHt} H e^{-iHt} |\\Phi_+\\rangle$ corresponding to the different values of the parameter."
      ]
    },
    {
      "cell_type": "code",
      "execution_count": 65,
      "metadata": {
        "colab": {
          "base_uri": "https://localhost:8080/"
        },
        "id": "3eYE5NKrJrBf",
        "outputId": "e6fa4498-bed6-4e38-d4e3-fdb250fb0f52"
      },
      "outputs": [
        {
          "output_type": "execute_result",
          "data": {
            "text/plain": [
              "array([-0.88272211+0.0e+00j, -0.88272211+0.0e+00j, -0.88272211+0.0e+00j,\n",
              "       -0.88272211+0.0e+00j, -0.88272211+0.0e+00j, -0.88272211+0.0e+00j,\n",
              "       -0.88272211+0.0e+00j, -0.88272211+5.6e-17j])"
            ]
          },
          "metadata": {},
          "execution_count": 65
        }
      ],
      "source": [
        "h2_trotter_expectations.eval()"
      ]
    },
    {
      "cell_type": "markdown",
      "metadata": {
        "id": "Am61WWv3JrBf"
      },
      "source": [
        "### Executing `CircuitStateFn`s with the `CircuitSampler`\n",
        "\n",
        "The `CircuitSampler` traverses an Operator and converts any `CircuitStateFns` into approximations of the resulting state function by a `DictStateFn` or `VectorStateFn` using a quantum backend. Note that in order to approximate the value of the `CircuitStateFn`, it must 1) send the state function through a depolarizing channel, which will destroy all phase information and 2) replace the sampled frequencies with **square roots** of the frequency, rather than the raw probability of sampling (which would be the equivalent of sampling the **square** of the state function, per the Born rule.)"
      ]
    },
    {
      "cell_type": "code",
      "execution_count": 66,
      "metadata": {
        "colab": {
          "base_uri": "https://localhost:8080/"
        },
        "id": "TkbicAwpJrBf",
        "outputId": "f42bd433-8773-4b56-ded0-120c58c3e55f"
      },
      "outputs": [
        {
          "output_type": "stream",
          "name": "stdout",
          "text": [
            "Sampled Trotterized energies:\n",
            " [-0.88272211 -0.88272211 -0.88272211 -0.88272211 -0.88272211 -0.88272211\n",
            " -0.88272211 -0.88272211]\n"
          ]
        }
      ],
      "source": [
        "sampler = CircuitSampler(backend=Aer.get_backend('aer_simulator'))\n",
        "# sampler.quantum_instance.run_config.shots = 1000\n",
        "sampled_trotter_exp_op = sampler.convert(h2_trotter_expectations)\n",
        "sampled_trotter_energies = sampled_trotter_exp_op.eval()\n",
        "print('Sampled Trotterized energies:\\n {}'.format(np.real(sampled_trotter_energies)))"
      ]
    },
    {
      "cell_type": "markdown",
      "metadata": {
        "id": "Xza7kSVdJrBf"
      },
      "source": [
        "Note again that the circuits are replaced by dicts with ***square roots*** of the circuit sampling probabilities. Take a look at one sub-expression before and after the conversion:"
      ]
    },
    {
      "cell_type": "code",
      "execution_count": 67,
      "metadata": {
        "colab": {
          "base_uri": "https://localhost:8080/"
        },
        "id": "JAt4glCnJrBf",
        "outputId": "b1bdec6b-017a-46a9-c21a-851cbf1b6b40"
      },
      "outputs": [
        {
          "output_type": "stream",
          "name": "stdout",
          "text": [
            "Before:\n",
            "\n",
            "ComposedOp([\n",
            "  OperatorMeasurement(0.18093119 * ZZ\n",
            "  - 1.0523732 * II),\n",
            "  CircuitStateFn(\n",
            "       ┌───┐     ┌────────────────────────────────────┐┌───┐\n",
            "  q_0: ┤ H ├──■──┤0                                   ├┤ H ├\n",
            "       └───┘┌─┴─┐│  exp(-i II + IZ + ZI + ZZ + XX)(0) │├───┤\n",
            "  q_1: ─────┤ X ├┤1                                   ├┤ H ├\n",
            "            └───┘└────────────────────────────────────┘└───┘\n",
            "  )\n",
            "])\n",
            "\n",
            "After:\n",
            "\n",
            "ComposedOp([\n",
            "  OperatorMeasurement(0.18093119 * ZZ\n",
            "  - 1.0523732 * II),\n",
            "  DictStateFn({'11': 0.7071067811865476, '00': 0.7071067811865476})\n",
            "])\n"
          ]
        }
      ],
      "source": [
        "print('Before:\\n')\n",
        "print(h2_trotter_expectations.reduce()[0][0])\n",
        "print('\\nAfter:\\n')\n",
        "print(sampled_trotter_exp_op[0][0])"
      ]
    },
    {
      "cell_type": "code",
      "execution_count": 68,
      "metadata": {
        "colab": {
          "base_uri": "https://localhost:8080/",
          "height": 0
        },
        "id": "rPB5gUYzJrBf",
        "outputId": "95f1278b-e6d5-4029-b551-1b2e6b3a9a32"
      },
      "outputs": [
        {
          "output_type": "display_data",
          "data": {
            "text/plain": [
              "<IPython.core.display.HTML object>"
            ],
            "text/html": [
              "<h3>Version Information</h3><table><tr><th>Qiskit Software</th><th>Version</th></tr><tr><td><code>qiskit-terra</code></td><td>0.19.2</td></tr><tr><td><code>qiskit-aer</code></td><td>0.10.3</td></tr><tr><td><code>qiskit-ignis</code></td><td>0.7.0</td></tr><tr><td><code>qiskit-ibmq-provider</code></td><td>0.18.3</td></tr><tr><th>System information</th></tr><tr><td>Python version</td><td>3.7.12</td></tr><tr><td>Python compiler</td><td>GCC 7.5.0</td></tr><tr><td>Python build</td><td>default, Jan 15 2022 18:48:18</td></tr><tr><td>OS</td><td>Linux</td></tr><tr><td>CPUs</td><td>1</td></tr><tr><td>Memory (Gb)</td><td>12.686653137207031</td></tr><tr><td colspan='2'>Sat Mar 12 03:24:12 2022 UTC</td></tr></table>"
            ]
          },
          "metadata": {}
        },
        {
          "output_type": "display_data",
          "data": {
            "text/plain": [
              "<IPython.core.display.HTML object>"
            ],
            "text/html": [
              "<div style='width: 100%; background-color:#d5d9e0;padding-left: 10px; padding-bottom: 10px; padding-right: 10px; padding-top: 5px'><h3>This code is a part of Qiskit</h3><p>&copy; Copyright IBM 2017, 2022.</p><p>This code is licensed under the Apache License, Version 2.0. You may<br>obtain a copy of this license in the LICENSE.txt file in the root directory<br> of this source tree or at http://www.apache.org/licenses/LICENSE-2.0.<p>Any modifications or derivative works of this code must retain this<br>copyright notice, and modified files need to carry a notice indicating<br>that they have been altered from the originals.</p></div>"
            ]
          },
          "metadata": {}
        }
      ],
      "source": [
        "import qiskit.tools.jupyter\n",
        "%qiskit_version_table\n",
        "%qiskit_copyright"
      ]
    }
  ],
  "metadata": {
    "kernelspec": {
      "display_name": "Python 3",
      "language": "python",
      "name": "python3"
    },
    "language_info": {
      "codemirror_mode": {
        "name": "ipython",
        "version": 3
      },
      "file_extension": ".py",
      "mimetype": "text/x-python",
      "name": "python",
      "nbconvert_exporter": "python",
      "pygments_lexer": "ipython3",
      "version": "3.9.5"
    },
    "colab": {
      "name": "01_operator_flow.ipynb",
      "provenance": []
    }
  },
  "nbformat": 4,
  "nbformat_minor": 0
}