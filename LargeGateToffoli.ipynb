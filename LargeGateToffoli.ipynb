{
  "nbformat": 4,
  "nbformat_minor": 0,
  "metadata": {
    "colab": {
      "name": "LargeGateToffoli.ipynb",
      "provenance": [],
      "authorship_tag": "ABX9TyNvjUBbQ0M7VHG5ZBlBvhsP",
      "include_colab_link": true
    },
    "kernelspec": {
      "name": "python3",
      "display_name": "Python 3"
    },
    "language_info": {
      "name": "python"
    }
  },
  "cells": [
    {
      "cell_type": "markdown",
      "metadata": {
        "id": "view-in-github",
        "colab_type": "text"
      },
      "source": [
        "<a href=\"https://colab.research.google.com/github/jmhuer/utaustin_QuantumInfo/blob/main/LargeGateToffoli.ipynb\" target=\"_parent\"><img src=\"https://colab.research.google.com/assets/colab-badge.svg\" alt=\"Open In Colab\"/></a>"
      ]
    },
    {
      "cell_type": "code",
      "source": [
        "\n",
        "bitstring = [a1,\n",
        "             a2,\n",
        "             b1,\n",
        "             b2,\n",
        "             1,\n",
        "             1,\n",
        "             0,\n",
        "             0,\n",
        "             0,\n",
        "             0,\n",
        "             0,\n",
        "             0,\n",
        "             0,\n",
        "             0]\n",
        "\n",
        "class Toffoli:\n",
        "  def __init__(self, plus, switch, switch_with):  \n",
        "    self.plus = plus - 1\n",
        "    self.switch = switch - 1\n",
        "    self.switch_with = switch_with - 1\n",
        "  def apply_toffoli(self, bitstring):\n",
        "    if bitstring[self.switch]==1 and bitstring[self.switch_with]==1:\n",
        "        # print(\"yea\")\n",
        "        if bitstring[self.plus]==0:  bitstring[self.plus]=1\n",
        "        elif bitstring[self.plus]==1:  bitstring[self.plus]=0\n",
        "    return bitstring\n",
        "\n",
        "print(\"bitstring start: \", bitstring[4:9])\n",
        "\n",
        "first = Toffoli(7,6,1)\n",
        "bitstring = first.apply_toffoli(bitstring)\n",
        "\n",
        "second = Toffoli(7,6,3)\n",
        "bitstring = second.apply_toffoli(bitstring)\n",
        "\n",
        "third = Toffoli(8,6,2)\n",
        "bitstring = third.apply_toffoli(bitstring)\n",
        "\n",
        "fourth = Toffoli(8,6,4)\n",
        "bitstring = fourth.apply_toffoli(bitstring)\n",
        "\n",
        "fifth = Toffoli(8,3,1)\n",
        "bitstring = fifth.apply_toffoli(bitstring)\n",
        "\n",
        "six = Toffoli(10,3,1)\n",
        "bitstring = six.apply_toffoli(bitstring)\n",
        "\n",
        "seven = Toffoli(11,4,1)\n",
        "bitstring = seven.apply_toffoli(bitstring)\n",
        "\n",
        "eight = Toffoli(12,10,2)\n",
        "bitstring = eight.apply_toffoli(bitstring)\n",
        "\n",
        "six = Toffoli(13,10,4)\n",
        "bitstring = six.apply_toffoli(bitstring)\n",
        "\n",
        "seven = Toffoli(11,6,5)\n",
        "bitstring = seven.apply_toffoli(bitstring)\n",
        "\n",
        "eight = Toffoli(12,6,5)\n",
        "bitstring = eight.apply_toffoli(bitstring)\n",
        "\n",
        "nine = Toffoli(13,6,5)\n",
        "bitstring = nine.apply_toffoli(bitstring)\n",
        "\n",
        "ten = Toffoli(14,12,11)\n",
        "bitstring = ten.apply_toffoli(bitstring)\n",
        "\n",
        "eleven = Toffoli(9,13,14)\n",
        "bitstring = eleven.apply_toffoli(bitstring)\n",
        "\n",
        "twelve = Toffoli(9,6,5)\n",
        "bitstring = twelve.apply_toffoli(bitstring)\n",
        "\n",
        "print(\"bitstring end:   \", bitstring[4:9])\n",
        "\n"
      ],
      "metadata": {
        "colab": {
          "base_uri": "https://localhost:8080/"
        },
        "id": "G-on9GFPBIho",
        "outputId": "05f34c8f-2d7c-44a1-b049-1f17393b9364"
      },
      "execution_count": 114,
      "outputs": [
        {
          "output_type": "stream",
          "name": "stdout",
          "text": [
            "bitstring start:  [1, 1, 0, 0, 0]\n",
            "bitstring end:    [1, 1, 0, 0, 1]\n"
          ]
        }
      ]
    },
    {
      "cell_type": "code",
      "source": [
        "a1 = 1\n",
        "a2 = 0\n",
        "b1 = 1\n",
        "b2 = 1\n",
        "\n",
        "\n",
        "print(\"a: \",0b10)\n",
        "print(\"b: \",0b00)\n",
        "\n",
        "print(\"out: \", 24 - 0b11010)"
      ],
      "metadata": {
        "colab": {
          "base_uri": "https://localhost:8080/"
        },
        "id": "ZJoOYWwIP3Nc",
        "outputId": "ce8737f7-01eb-4c77-d8c5-e943e116670b"
      },
      "execution_count": 113,
      "outputs": [
        {
          "output_type": "stream",
          "name": "stdout",
          "text": [
            "a:  2\n",
            "b:  0\n",
            "out:  -2\n"
          ]
        }
      ]
    },
    {
      "cell_type": "markdown",
      "source": [
        "a=00;b=00\n",
        "bitstring start:  [1, 1, 0, 0, 0]\n",
        "bitstring end:    [1, 1, 0, 0, 0]\n",
        "\n",
        "a=00;b=11\n",
        "bitstring start:  [1, 1, 0, 0, 0]\n",
        "bitstring end:    [1, 1, 1, 1, 0]\n",
        "\n",
        "a=00;b=01\n",
        "bitstring start:  [1, 1, 0, 0, 0]\n",
        "bitstring end:    [1, 1, 0, 1, 0]\n",
        "\n",
        "a=11;b=00\n",
        "bitstring start:  [1, 1, 0, 0, 0]\n",
        "bitstring end:    [1, 1, 1, 1, 0]\n",
        "\n",
        "a=11;b=01\n",
        "bitstring start:  [1, 1, 0, 0, 0]\n",
        "bitstring end:    [1, 1, 1, 0, 1]\n",
        "\n",
        "a=11;b=11\n",
        "bitstring start:  [1, 1, 0, 0, 0]\n",
        "bitstring end:    [1, 1, 0, 1, 1]\n",
        "\n",
        "a=01;b=11\n",
        "bitstring start:  [1, 1, 0, 0, 0]\n",
        "bitstring end:    [1, 1, 1, 0, 0]\n",
        "\n",
        "a=01;b=10\n",
        "bitstring start:  [1, 1, 0, 0, 0]\n",
        "bitstring end:    [1, 1, 1, 1, 0]\n",
        "\n",
        "a=01;b=00\n",
        "bitstring start:  [1, 1, 0, 0, 0]\n",
        "bitstring end:    [1, 1, 0, 1, 0]\n",
        "\n",
        "a=10;b=00\n",
        "bitstring start:  [1, 1, 0, 0, 0]\n",
        "bitstring end:    [1, 1, 1, 0, 0]\n",
        "\n",
        "a=10;b=01\n",
        "bitstring start:  [1, 1, 0, 0, 0]\n",
        "bitstring end:    [1, 1, 1, 1, 1]\n",
        "\n",
        "a=10;b=11\n",
        "bitstring start:  [1, 1, 0, 0, 0]\n",
        "bitstring end:    [1, 1, 0, 0, 1]"
      ],
      "metadata": {
        "id": "akw_59EPULUY"
      }
    }
  ]
}