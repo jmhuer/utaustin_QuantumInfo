{
  "nbformat": 4,
  "nbformat_minor": 0,
  "metadata": {
    "colab": {
      "name": "Untitled23.ipynb",
      "provenance": [],
      "authorship_tag": "ABX9TyMpJBEmx3zaWjsJX0O0fzJi",
      "include_colab_link": true
    },
    "kernelspec": {
      "name": "python3",
      "display_name": "Python 3"
    },
    "language_info": {
      "name": "python"
    }
  },
  "cells": [
    {
      "cell_type": "markdown",
      "metadata": {
        "id": "view-in-github",
        "colab_type": "text"
      },
      "source": [
        "<a href=\"https://colab.research.google.com/github/jmhuer/utaustin_QuantumInfo/blob/main/calculator2.ipynb\" target=\"_parent\"><img src=\"https://colab.research.google.com/assets/colab-badge.svg\" alt=\"Open In Colab\"/></a>"
      ]
    },
    {
      "cell_type": "code",
      "execution_count": null,
      "metadata": {
        "id": "BK6l5j87KPh4"
      },
      "outputs": [],
      "source": [
        "!pip install qiskit"
      ]
    },
    {
      "cell_type": "markdown",
      "source": [
        "# Calculate density matrix from mixed state distribution\n"
      ],
      "metadata": {
        "id": "w_9SlW64KIY5"
      }
    },
    {
      "cell_type": "code",
      "source": [
        "import qiskit.quantum_info as qi\n",
        "from qiskit.opflow import (StateFn, Zero, One, Plus, Minus, H,\n",
        "                           DictStateFn, VectorStateFn, CircuitStateFn, OperatorStateFn)\n",
        "from qiskit.quantum_info import Statevector\n",
        "\n",
        "from math import *\n",
        "\n",
        "i = Statevector([1/sqrt(2), 0,0, 0]) - Statevector([0, 0,0, 1/sqrt(2)])\n",
        "rho_H = qi.DensityMatrix(i)\n",
        "\n",
        "i2 = Statevector([0, 1/sqrt(2),0, 0]) + Statevector([0, 0,1/sqrt(2), 0])\n",
        "rho_H2 = qi.DensityMatrix(i2)\n",
        "\n",
        "final_density = (1/2)*rho_H+(1/2)*rho_H2\n",
        "final_density.draw('latex', prefix='\\\\rho_H = ')\n"
      ],
      "metadata": {
        "colab": {
          "base_uri": "https://localhost:8080/",
          "height": 99
        },
        "id": "qr0gAN1DKUcv",
        "outputId": "052ad6bb-f2a8-48a3-a98a-417ba28898ee"
      },
      "execution_count": null,
      "outputs": [
        {
          "output_type": "execute_result",
          "data": {
            "text/plain": [
              "<IPython.core.display.Latex object>"
            ],
            "text/latex": "$$\n\\rho_H = \n\\begin{bmatrix}\n\\tfrac{1}{4} & 0 & 0 & -\\tfrac{1}{4}  \\\\\n 0 & \\tfrac{1}{4} & \\tfrac{1}{4} & 0  \\\\\n 0 & \\tfrac{1}{4} & \\tfrac{1}{4} & 0  \\\\\n -\\tfrac{1}{4} & 0 & 0 & \\tfrac{1}{4}  \\\\\n \\end{bmatrix}\n$$"
          },
          "metadata": {},
          "execution_count": 36
        }
      ]
    },
    {
      "cell_type": "markdown",
      "source": [
        "# Reduced matrix\n"
      ],
      "metadata": {
        "id": "OuENoW9EYqPK"
      }
    },
    {
      "cell_type": "code",
      "source": [
        "phi =  \\\n",
        "Statevector([(1/(2*sqrt(2)))*sqrt(3),0,0,0]) + \\\n",
        "Statevector([0,(1/(2*sqrt(2)))*sqrt(3),0,0]) +  \\\n",
        "Statevector([0,0,(1/(2*sqrt(2)))*1,0])       -   \\\n",
        "Statevector([0,0,0,(1/(2*sqrt(2)))*1])\n",
        "\n",
        "rho_B = qi.partial_trace(phi,[1])\n",
        "rho_A = qi.partial_trace(phi,[0])\n",
        "\n",
        "display(rho_A.draw('latex', prefix=\" \\\\rho_{A} = \"), rho_B.draw('latex', prefix=\" \\\\rho_{B} = \") )\n",
        "\n"
      ],
      "metadata": {
        "colab": {
          "base_uri": "https://localhost:8080/",
          "height": 99
        },
        "id": "01P6rCsBYpuo",
        "outputId": "7199bdc5-e3aa-48b3-878d-834fd8222682"
      },
      "execution_count": null,
      "outputs": [
        {
          "output_type": "display_data",
          "data": {
            "text/plain": [
              "<IPython.core.display.Latex object>"
            ],
            "text/latex": "$$\n \\rho_{A} = \n\\begin{bmatrix}\n\\tfrac{3}{4} & 0  \\\\\n 0 & \\tfrac{1}{4}  \\\\\n \\end{bmatrix}\n$$"
          },
          "metadata": {}
        },
        {
          "output_type": "display_data",
          "data": {
            "text/plain": [
              "<IPython.core.display.Latex object>"
            ],
            "text/latex": "$$\n \\rho_{B} = \n\\begin{bmatrix}\n\\tfrac{1}{2} & \\tfrac{1}{4}  \\\\\n \\tfrac{1}{4} & \\tfrac{1}{2}  \\\\\n \\end{bmatrix}\n$$"
          },
          "metadata": {}
        }
      ]
    },
    {
      "cell_type": "markdown",
      "source": [
        "# Entropy"
      ],
      "metadata": {
        "id": "jrO3655VPyvJ"
      }
    },
    {
      "cell_type": "code",
      "source": [
        "from qiskit.quantum_info import entropy, DensityMatrix\n",
        "\n",
        "# Density matrix object\n",
        "s3 = entropy(final_density)  \n",
        "print(s3)\n",
        "\n",
        "# Statevector as list\n",
        "s1 = entropy([1/sqrt(2), 1/sqrt(2), 0, 0])  \n",
        "print(s1)\n"
      ],
      "metadata": {
        "colab": {
          "base_uri": "https://localhost:8080/"
        },
        "id": "WAoqDbQQLdrS",
        "outputId": "d94fb83a-5316-474a-faa3-e4a373c01fdf"
      },
      "execution_count": null,
      "outputs": [
        {
          "output_type": "stream",
          "name": "stdout",
          "text": [
            "1.0000000000000002\n",
            "0\n"
          ]
        }
      ]
    },
    {
      "cell_type": "code",
      "source": [
        "import qiskit.quantum_info as qi\n",
        "from qiskit.opflow import (StateFn, Zero, One, Plus, Minus, H,\n",
        "                           DictStateFn, VectorStateFn, CircuitStateFn, OperatorStateFn)\n",
        "from math import *\n",
        "\n",
        "i = Statevector([1/sqrt(2), 0,0, 0]) - Statevector([0, 0,0, 1/sqrt(2)])\n",
        "rho_H = qi.DensityMatrix(i)\n",
        "\n",
        "i2 = Statevector([0, 1/sqrt(2),0, 0]) + Statevector([0, 0,1/sqrt(2), 0])\n",
        "rho_H2 = qi.DensityMatrix(i2)\n",
        "\n",
        "final_density = (1/2)*rho_H+(1/2)*rho_H2\n",
        "final_density.draw('latex', prefix='\\\\rho_H = ')\n"
      ],
      "metadata": {
        "colab": {
          "base_uri": "https://localhost:8080/",
          "height": 99
        },
        "id": "in150I7zOv4N",
        "outputId": "4a7cea5e-c11a-44b2-8b43-4eb03327aea8"
      },
      "execution_count": null,
      "outputs": [
        {
          "output_type": "execute_result",
          "data": {
            "text/plain": [
              "<IPython.core.display.Latex object>"
            ],
            "text/latex": "$$\n\\rho_H = \n\\begin{bmatrix}\n\\tfrac{1}{4} & 0 & 0 & -\\tfrac{1}{4}  \\\\\n 0 & \\tfrac{1}{4} & \\tfrac{1}{4} & 0  \\\\\n 0 & \\tfrac{1}{4} & \\tfrac{1}{4} & 0  \\\\\n -\\tfrac{1}{4} & 0 & 0 & \\tfrac{1}{4}  \\\\\n \\end{bmatrix}\n$$"
          },
          "metadata": {},
          "execution_count": 20
        }
      ]
    },
    {
      "cell_type": "markdown",
      "source": [
        "# Calulating probabilities\n"
      ],
      "metadata": {
        "id": "pFgdFBK6T9hM"
      }
    },
    {
      "cell_type": "code",
      "source": [
        "phi =  \\\n",
        "Statevector([(1/(2*sqrt(2)))*sqrt(3),0,0,0]) + \\\n",
        "Statevector([0,(1/(2*sqrt(2)))*sqrt(3),0,0]) +  \\\n",
        "Statevector([0,0,(1/(2*sqrt(2)))*1,0])       -   \\\n",
        "Statevector([0,0,0,(1/(2*sqrt(2)))*1])\n",
        "\n",
        "probabilities = phi.probabilities_dict()\n",
        "print(probabilities)\n",
        "\n",
        "#what is the probability alice (first bit) is 1?\n",
        "print(\"ALICE\")\n",
        "print(probabilities['10'] +probabilities['11'])\n",
        "\n",
        "#what is the probability bob (second bit) is 1?\n",
        "print(\"BOB\")\n",
        "print(probabilities['01'] +probabilities['11'])\n"
      ],
      "metadata": {
        "colab": {
          "base_uri": "https://localhost:8080/"
        },
        "id": "luWPTtfiUFwt",
        "outputId": "5a811b4f-0f26-45a2-f016-f937db38ceb1"
      },
      "execution_count": null,
      "outputs": [
        {
          "output_type": "stream",
          "name": "stdout",
          "text": [
            "{'00': 0.37499999999999994, '01': 0.37499999999999994, '10': 0.12499999999999997, '11': 0.12499999999999997}\n",
            "ALICE\n",
            "0.24999999999999994\n",
            "BOB\n",
            "0.4999999999999999\n"
          ]
        }
      ]
    },
    {
      "cell_type": "markdown",
      "source": [
        "# SVD Decomposition\n",
        "\n",
        "\n"
      ],
      "metadata": {
        "id": "jcMrM-k11xYe"
      }
    },
    {
      "cell_type": "code",
      "source": [
        "from numpy import linalg as LA\n",
        "import numpy as np\n",
        "from numpy.linalg import svd as SVD\n",
        "\n",
        "g  = qi.DensityMatrix(phi)\n",
        "\n",
        "display(rho_A.draw('latex', prefix=\" \\\\rho_{A} = \"), rho_B.draw('latex', prefix=\" \\\\rho_{B} = \") )\n",
        "\n",
        "g.draw('latex', prefix='\\\\rho_H = ')\n",
        "\n",
        "\n",
        "u, s, vh = SVD(rho_A.data)\n",
        "\n",
        "new_rowA = np.dot(u * s, vh)\n",
        "# print(new_rowA)\n",
        "\n",
        "\n",
        "print(\"Eigenvalas\")\n",
        "print(u)\n",
        "u, s, vh  = qi.DensityMatrix(u),qi.DensityMatrix(s),qi.DensityMatrix(vh)\n",
        "s.draw('latex', prefix='\\\\ S = ')\n",
        "\n",
        "\n",
        "\n",
        "# print(\"Eigenvectors\")\n",
        "# print(v)"
      ],
      "metadata": {
        "colab": {
          "base_uri": "https://localhost:8080/",
          "height": 195
        },
        "id": "UrcxM0-JW-Ao",
        "outputId": "b196068b-efe4-4b23-f88f-a5c797a13863"
      },
      "execution_count": 131,
      "outputs": [
        {
          "output_type": "display_data",
          "data": {
            "text/plain": [
              "<IPython.core.display.Latex object>"
            ],
            "text/latex": "$$\n \\rho_{A} = \n\\begin{bmatrix}\n\\tfrac{3}{4} & 0  \\\\\n 0 & \\tfrac{1}{4}  \\\\\n \\end{bmatrix}\n$$"
          },
          "metadata": {}
        },
        {
          "output_type": "display_data",
          "data": {
            "text/plain": [
              "<IPython.core.display.Latex object>"
            ],
            "text/latex": "$$\n \\rho_{B} = \n\\begin{bmatrix}\n\\tfrac{1}{2} & \\tfrac{1}{4}  \\\\\n \\tfrac{1}{4} & \\tfrac{1}{2}  \\\\\n \\end{bmatrix}\n$$"
          },
          "metadata": {}
        },
        {
          "output_type": "stream",
          "name": "stdout",
          "text": [
            "Eigenvalas\n",
            "[[-1.00000000e+00+0.j  2.58379842e-18+0.j]\n",
            " [ 2.58379842e-18+0.j  1.00000000e+00+0.j]]\n"
          ]
        },
        {
          "output_type": "execute_result",
          "data": {
            "text/plain": [
              "<IPython.core.display.Latex object>"
            ],
            "text/latex": "$$\n\\ S = \n\\begin{bmatrix}\n0.5625 & \\tfrac{3}{16}  \\\\\n \\tfrac{3}{16} & \\tfrac{1}{16}  \\\\\n \\end{bmatrix}\n$$"
          },
          "metadata": {},
          "execution_count": 131
        }
      ]
    },
    {
      "cell_type": "markdown",
      "source": [
        "#Tesor products and density \n"
      ],
      "metadata": {
        "id": "wlFnZzAOzV1b"
      }
    },
    {
      "cell_type": "markdown",
      "source": [
        "###say you want to see possible matrices of outer products of baiss states\n",
        "\n"
      ],
      "metadata": {
        "id": "527ffd8742_z"
      }
    },
    {
      "cell_type": "code",
      "source": [
        "#say you want to see possible matrices of outer products of baiss states\n",
        "\n",
        "# rho_m = 1/2*(qi.DensityMatrix.from_label('0') + qi.DensityMatrix.from_label('+'))\n",
        "rho_m = qi.DensityMatrix.from_label('+') \n",
        "display(rho_m.draw('latex', prefix='\\\\rho_m = '))\n"
      ],
      "metadata": {
        "colab": {
          "base_uri": "https://localhost:8080/",
          "height": 58
        },
        "id": "V-ua5pM14mb_",
        "outputId": "b680bece-388d-4136-8aa8-17c037b55b70"
      },
      "execution_count": 142,
      "outputs": [
        {
          "output_type": "display_data",
          "data": {
            "text/plain": [
              "<IPython.core.display.Latex object>"
            ],
            "text/latex": "$$\n\\rho_m = \n\\begin{bmatrix}\n\\tfrac{1}{2} & \\tfrac{1}{2}  \\\\\n \\tfrac{1}{2} & \\tfrac{1}{2}  \\\\\n \\end{bmatrix}\n$$"
          },
          "metadata": {}
        }
      ]
    },
    {
      "cell_type": "code",
      "source": [
        "#say you want to see possible matrices of outer products of baiss states\n",
        "g = (One^Minus)/2\n",
        "\n",
        "# rho_m = 1/2*(qi.DensityMatrix.from_label('0') + qi.DensityMatrix.from_label('+'))\n",
        "rho_m = qi.DensityMatrix(g.to_matrix()) \n",
        "display(rho_m.draw('latex', prefix='\\\\rho_m = '))\n"
      ],
      "metadata": {
        "colab": {
          "base_uri": "https://localhost:8080/",
          "height": 99
        },
        "id": "gec2A7J78Keb",
        "outputId": "b2bfc361-5e39-490c-cc24-cff79ef990cd"
      },
      "execution_count": 163,
      "outputs": [
        {
          "output_type": "display_data",
          "data": {
            "text/plain": [
              "<IPython.core.display.Latex object>"
            ],
            "text/latex": "$$\n\\rho_m = \n\\begin{bmatrix}\n0 & 0 & 0 & 0  \\\\\n 0 & 0 & 0 & 0  \\\\\n 0 & 0 & 0.03125 & -0.03125  \\\\\n 0 & 0 & -0.03125 & 0.03125  \\\\\n \\end{bmatrix}\n$$"
          },
          "metadata": {}
        }
      ]
    },
    {
      "cell_type": "code",
      "source": [
        "f = (sqrt(3)*Zero^Plus)/2\n",
        "\n",
        "g = (One^Minus)/2\n",
        "\n",
        "state = Statevector(f.to_matrix() + g.to_matrix())\n",
        "\n",
        "display(state.draw('latex', prefix='\\\\rho_m = '))\n"
      ],
      "metadata": {
        "colab": {
          "base_uri": "https://localhost:8080/",
          "height": 40
        },
        "id": "qW-rq_-l2SlI",
        "outputId": "211cb184-7750-419b-99f5-6b5604c9f1b0"
      },
      "execution_count": 162,
      "outputs": [
        {
          "output_type": "display_data",
          "data": {
            "text/plain": [
              "<IPython.core.display.Latex object>"
            ],
            "text/latex": "$$\\frac{\\sqrt{6}}{8} |00\\rangle+\\frac{\\sqrt{6}}{8} |01\\rangle+\\frac{\\sqrt{2}}{8} |10\\rangle- \\frac{\\sqrt{2}}{8} |11\\rangle$$"
          },
          "metadata": {}
        }
      ]
    },
    {
      "cell_type": "code",
      "source": [
        "rho_B = qi.partial_trace(rho_AB,[0])\n",
        "rho_A = qi.partial_trace(rho_AB,[1])\n",
        "\n",
        "display(rho_B.draw('latex', prefix=\" \\\\rho_{B} = \"),\n",
        "        rho_A.draw('latex', prefix=\" \\\\rho_{A} = \"))"
      ],
      "metadata": {
        "colab": {
          "base_uri": "https://localhost:8080/",
          "height": 247
        },
        "id": "cWX1uiZg1-6l",
        "outputId": "b6bc6526-f7c0-4a26-dc1d-304b66a66371"
      },
      "execution_count": 133,
      "outputs": [
        {
          "output_type": "error",
          "ename": "NameError",
          "evalue": "ignored",
          "traceback": [
            "\u001b[0;31m---------------------------------------------------------------------------\u001b[0m",
            "\u001b[0;31mNameError\u001b[0m                                 Traceback (most recent call last)",
            "\u001b[0;32m<ipython-input-133-bf5695d79bc7>\u001b[0m in \u001b[0;36m<module>\u001b[0;34m()\u001b[0m\n\u001b[0;32m----> 1\u001b[0;31m \u001b[0mrho_B\u001b[0m \u001b[0;34m=\u001b[0m \u001b[0mqi\u001b[0m\u001b[0;34m.\u001b[0m\u001b[0mpartial_trace\u001b[0m\u001b[0;34m(\u001b[0m\u001b[0mrho_AB\u001b[0m\u001b[0;34m,\u001b[0m\u001b[0;34m[\u001b[0m\u001b[0;36m0\u001b[0m\u001b[0;34m]\u001b[0m\u001b[0;34m)\u001b[0m\u001b[0;34m\u001b[0m\u001b[0;34m\u001b[0m\u001b[0m\n\u001b[0m\u001b[1;32m      2\u001b[0m \u001b[0mrho_A\u001b[0m \u001b[0;34m=\u001b[0m \u001b[0mqi\u001b[0m\u001b[0;34m.\u001b[0m\u001b[0mpartial_trace\u001b[0m\u001b[0;34m(\u001b[0m\u001b[0mrho_AB\u001b[0m\u001b[0;34m,\u001b[0m\u001b[0;34m[\u001b[0m\u001b[0;36m1\u001b[0m\u001b[0;34m]\u001b[0m\u001b[0;34m)\u001b[0m\u001b[0;34m\u001b[0m\u001b[0;34m\u001b[0m\u001b[0m\n\u001b[1;32m      3\u001b[0m \u001b[0;34m\u001b[0m\u001b[0m\n\u001b[1;32m      4\u001b[0m display(rho_B.draw('latex', prefix=\" \\\\rho_{B} = \"),\n\u001b[1;32m      5\u001b[0m         rho_A.draw('latex', prefix=\" \\\\rho_{A} = \"))\n",
            "\u001b[0;31mNameError\u001b[0m: name 'rho_AB' is not defined"
          ]
        }
      ]
    },
    {
      "cell_type": "code",
      "source": [
        "s.draw('latex', prefix='\\\\ S = ')\n",
        "\n",
        "h = Zero^Plus\n",
        "print(h.to_matrix())\n",
        "\n",
        "h = One^Minus\n",
        "print(h.to_matrix())"
      ],
      "metadata": {
        "colab": {
          "base_uri": "https://localhost:8080/"
        },
        "id": "nX38mESmiacb",
        "outputId": "11e54d20-1082-4403-eb84-168d15b355f8"
      },
      "execution_count": 132,
      "outputs": [
        {
          "output_type": "stream",
          "name": "stdout",
          "text": [
            "[0.70710678+0.j 0.70710678+0.j 0.        +0.j 0.        +0.j]\n",
            "[ 0.        +0.0e+00j -0.        +0.0e+00j  0.70710678-8.7e-17j\n",
            " -0.70710678+8.7e-17j]\n"
          ]
        }
      ]
    },
    {
      "cell_type": "code",
      "source": [
        "vh.draw('latex', prefix='\\\\ VN = ')"
      ],
      "metadata": {
        "colab": {
          "base_uri": "https://localhost:8080/",
          "height": 58
        },
        "id": "O6uJQPTGidfu",
        "outputId": "3580a7e7-00e7-4135-a5a7-95879b0090d6"
      },
      "execution_count": null,
      "outputs": [
        {
          "output_type": "execute_result",
          "data": {
            "text/plain": [
              "<IPython.core.display.Latex object>"
            ],
            "text/latex": "$$\n\\ VN = \n\\begin{bmatrix}\n-1 & 0  \\\\\n 0 & 1  \\\\\n \\end{bmatrix}\n$$"
          },
          "metadata": {},
          "execution_count": 121
        }
      ]
    }
  ]
}