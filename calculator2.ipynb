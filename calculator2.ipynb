{
  "nbformat": 4,
  "nbformat_minor": 0,
  "metadata": {
    "colab": {
      "name": "Untitled23.ipynb",
      "provenance": [],
      "authorship_tag": "ABX9TyNi8Jk62Vm05kvMuljuO/iR",
      "include_colab_link": true
    },
    "kernelspec": {
      "name": "python3",
      "display_name": "Python 3"
    },
    "language_info": {
      "name": "python"
    }
  },
  "cells": [
    {
      "cell_type": "markdown",
      "metadata": {
        "id": "view-in-github",
        "colab_type": "text"
      },
      "source": [
        "<a href=\"https://colab.research.google.com/github/jmhuer/utaustin_QuantumInfo/blob/main/calculator2.ipynb\" target=\"_parent\"><img src=\"https://colab.research.google.com/assets/colab-badge.svg\" alt=\"Open In Colab\"/></a>"
      ]
    },
    {
      "cell_type": "code",
      "execution_count": null,
      "metadata": {
        "id": "BK6l5j87KPh4"
      },
      "outputs": [],
      "source": [
        "!pip install qiskit"
      ]
    },
    {
      "cell_type": "markdown",
      "source": [
        "# Calculate density matrix from mixed state distribution\n"
      ],
      "metadata": {
        "id": "w_9SlW64KIY5"
      }
    },
    {
      "cell_type": "code",
      "source": [
        "import qiskit.quantum_info as qi\n",
        "from qiskit.opflow import (StateFn, Zero, One, Plus, Minus, H,\n",
        "                           DictStateFn, VectorStateFn, CircuitStateFn, OperatorStateFn)\n",
        "from qiskit.quantum_info import Statevector\n",
        "\n",
        "from math import *\n",
        "\n",
        "i = Statevector([1/sqrt(2), 0,0, 0]) - Statevector([0, 0,0, 1/sqrt(2)])\n",
        "rho_H = qi.DensityMatrix(i)\n",
        "\n",
        "i2 = Statevector([0, 1/sqrt(2),0, 0]) + Statevector([0, 0,1/sqrt(2), 0])\n",
        "rho_H2 = qi.DensityMatrix(i2)\n",
        "\n",
        "final_density = (1/2)*rho_H+(1/2)*rho_H2\n",
        "final_density.draw('latex', prefix='\\\\rho_H = ')\n"
      ],
      "metadata": {
        "colab": {
          "base_uri": "https://localhost:8080/",
          "height": 99
        },
        "id": "qr0gAN1DKUcv",
        "outputId": "052ad6bb-f2a8-48a3-a98a-417ba28898ee"
      },
      "execution_count": 36,
      "outputs": [
        {
          "output_type": "execute_result",
          "data": {
            "text/plain": [
              "<IPython.core.display.Latex object>"
            ],
            "text/latex": "$$\n\\rho_H = \n\\begin{bmatrix}\n\\tfrac{1}{4} & 0 & 0 & -\\tfrac{1}{4}  \\\\\n 0 & \\tfrac{1}{4} & \\tfrac{1}{4} & 0  \\\\\n 0 & \\tfrac{1}{4} & \\tfrac{1}{4} & 0  \\\\\n -\\tfrac{1}{4} & 0 & 0 & \\tfrac{1}{4}  \\\\\n \\end{bmatrix}\n$$"
          },
          "metadata": {},
          "execution_count": 36
        }
      ]
    },
    {
      "cell_type": "markdown",
      "source": [
        "# Reduced matrix\n"
      ],
      "metadata": {
        "id": "OuENoW9EYqPK"
      }
    },
    {
      "cell_type": "code",
      "source": [
        "phi =  \\\n",
        "Statevector([(1/(2*sqrt(2)))*sqrt(3),0,0,0]) + \\\n",
        "Statevector([0,(1/(2*sqrt(2)))*sqrt(3),0,0]) +  \\\n",
        "Statevector([0,0,(1/(2*sqrt(2)))*1,0])       -   \\\n",
        "Statevector([0,0,0,(1/(2*sqrt(2)))*1])\n",
        "\n",
        "rho_B = qi.partial_trace(phi,[1])\n",
        "rho_A = qi.partial_trace(phi,[0])\n",
        "\n",
        "display(rho_A.draw('latex', prefix=\" \\\\rho_{A} = \"), rho_B.draw('latex', prefix=\" \\\\rho_{B} = \") )\n",
        "\n"
      ],
      "metadata": {
        "colab": {
          "base_uri": "https://localhost:8080/",
          "height": 99
        },
        "id": "01P6rCsBYpuo",
        "outputId": "c76183b1-ae15-4741-a347-1ec8c133e67b"
      },
      "execution_count": 44,
      "outputs": [
        {
          "output_type": "display_data",
          "data": {
            "text/plain": [
              "<IPython.core.display.Latex object>"
            ],
            "text/latex": "$$\n \\rho_{A} = \n\\begin{bmatrix}\n\\tfrac{3}{4} & 0  \\\\\n 0 & \\tfrac{1}{4}  \\\\\n \\end{bmatrix}\n$$"
          },
          "metadata": {}
        },
        {
          "output_type": "display_data",
          "data": {
            "text/plain": [
              "<IPython.core.display.Latex object>"
            ],
            "text/latex": "$$\n \\rho_{B} = \n\\begin{bmatrix}\n\\tfrac{1}{2} & \\tfrac{1}{4}  \\\\\n \\tfrac{1}{4} & \\tfrac{1}{2}  \\\\\n \\end{bmatrix}\n$$"
          },
          "metadata": {}
        }
      ]
    },
    {
      "cell_type": "markdown",
      "source": [
        "# Entropy"
      ],
      "metadata": {
        "id": "jrO3655VPyvJ"
      }
    },
    {
      "cell_type": "code",
      "source": [
        "from qiskit.quantum_info import entropy, DensityMatrix\n",
        "\n",
        "# Density matrix object\n",
        "s3 = entropy(final_density)  \n",
        "print(s3)\n",
        "\n",
        "# Statevector as list\n",
        "s1 = entropy([1/sqrt(2), 1/sqrt(2), 0, 0])  \n",
        "print(s1)\n"
      ],
      "metadata": {
        "colab": {
          "base_uri": "https://localhost:8080/"
        },
        "id": "WAoqDbQQLdrS",
        "outputId": "d94fb83a-5316-474a-faa3-e4a373c01fdf"
      },
      "execution_count": 16,
      "outputs": [
        {
          "output_type": "stream",
          "name": "stdout",
          "text": [
            "1.0000000000000002\n",
            "0\n"
          ]
        }
      ]
    },
    {
      "cell_type": "code",
      "source": [
        "import qiskit.quantum_info as qi\n",
        "from qiskit.opflow import (StateFn, Zero, One, Plus, Minus, H,\n",
        "                           DictStateFn, VectorStateFn, CircuitStateFn, OperatorStateFn)\n",
        "from math import *\n",
        "\n",
        "i = Statevector([1/sqrt(2), 0,0, 0]) - Statevector([0, 0,0, 1/sqrt(2)])\n",
        "rho_H = qi.DensityMatrix(i)\n",
        "\n",
        "i2 = Statevector([0, 1/sqrt(2),0, 0]) + Statevector([0, 0,1/sqrt(2), 0])\n",
        "rho_H2 = qi.DensityMatrix(i2)\n",
        "\n",
        "final_density = (1/2)*rho_H+(1/2)*rho_H2\n",
        "final_density.draw('latex', prefix='\\\\rho_H = ')\n"
      ],
      "metadata": {
        "colab": {
          "base_uri": "https://localhost:8080/",
          "height": 99
        },
        "id": "in150I7zOv4N",
        "outputId": "4a7cea5e-c11a-44b2-8b43-4eb03327aea8"
      },
      "execution_count": 20,
      "outputs": [
        {
          "output_type": "execute_result",
          "data": {
            "text/plain": [
              "<IPython.core.display.Latex object>"
            ],
            "text/latex": "$$\n\\rho_H = \n\\begin{bmatrix}\n\\tfrac{1}{4} & 0 & 0 & -\\tfrac{1}{4}  \\\\\n 0 & \\tfrac{1}{4} & \\tfrac{1}{4} & 0  \\\\\n 0 & \\tfrac{1}{4} & \\tfrac{1}{4} & 0  \\\\\n -\\tfrac{1}{4} & 0 & 0 & \\tfrac{1}{4}  \\\\\n \\end{bmatrix}\n$$"
          },
          "metadata": {},
          "execution_count": 20
        }
      ]
    },
    {
      "cell_type": "markdown",
      "source": [
        "# Calulating probabilities\n"
      ],
      "metadata": {
        "id": "pFgdFBK6T9hM"
      }
    },
    {
      "cell_type": "code",
      "source": [
        "phi =  \\\n",
        "Statevector([(1/(2*sqrt(2)))*sqrt(3),0,0,0]) + \\\n",
        "Statevector([0,(1/(2*sqrt(2)))*sqrt(3),0,0]) +  \\\n",
        "Statevector([0,0,(1/(2*sqrt(2)))*1,0])       -   \\\n",
        "Statevector([0,0,0,(1/(2*sqrt(2)))*1])\n",
        "\n",
        "probabilities = phi.probabilities_dict()\n",
        "print(probabilities)\n",
        "\n",
        "#what is the probability alice (first bit) is 1?\n",
        "print(\"ALICE\")\n",
        "print(probabilities['10'] +probabilities['11'])\n",
        "\n",
        "#what is the probability bob (second bit) is 1?\n",
        "print(\"BOB\")\n",
        "print(probabilities['01'] +probabilities['11'])\n"
      ],
      "metadata": {
        "colab": {
          "base_uri": "https://localhost:8080/"
        },
        "id": "luWPTtfiUFwt",
        "outputId": "5a811b4f-0f26-45a2-f016-f937db38ceb1"
      },
      "execution_count": 33,
      "outputs": [
        {
          "output_type": "stream",
          "name": "stdout",
          "text": [
            "{'00': 0.37499999999999994, '01': 0.37499999999999994, '10': 0.12499999999999997, '11': 0.12499999999999997}\n",
            "ALICE\n",
            "0.24999999999999994\n",
            "BOB\n",
            "0.4999999999999999\n"
          ]
        }
      ]
    },
    {
      "cell_type": "code",
      "source": [
        ""
      ],
      "metadata": {
        "id": "UrcxM0-JW-Ao"
      },
      "execution_count": null,
      "outputs": []
    }
  ]
}