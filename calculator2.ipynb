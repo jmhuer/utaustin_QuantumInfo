{
  "nbformat": 4,
  "nbformat_minor": 0,
  "metadata": {
    "colab": {
      "name": "Untitled23.ipynb",
      "provenance": [],
      "authorship_tag": "ABX9TyOzS7rRWnPe0Z4goyXAXFL/",
      "include_colab_link": true
    },
    "kernelspec": {
      "name": "python3",
      "display_name": "Python 3"
    },
    "language_info": {
      "name": "python"
    }
  },
  "cells": [
    {
      "cell_type": "markdown",
      "metadata": {
        "id": "view-in-github",
        "colab_type": "text"
      },
      "source": [
        "<a href=\"https://colab.research.google.com/github/jmhuer/utaustin_QuantumInfo/blob/main/calculator2.ipynb\" target=\"_parent\"><img src=\"https://colab.research.google.com/assets/colab-badge.svg\" alt=\"Open In Colab\"/></a>"
      ]
    },
    {
      "cell_type": "code",
      "execution_count": 1,
      "metadata": {
        "id": "BK6l5j87KPh4",
        "colab": {
          "base_uri": "https://localhost:8080/"
        },
        "outputId": "789ac983-8a0f-4c49-b23d-702d222be6ee"
      },
      "outputs": [
        {
          "output_type": "stream",
          "name": "stdout",
          "text": [
            "Collecting qiskit\n",
            "  Downloading qiskit-0.36.1.tar.gz (13 kB)\n",
            "Collecting qiskit-terra==0.20.1\n",
            "  Downloading qiskit_terra-0.20.1-cp37-cp37m-manylinux_2_17_x86_64.manylinux2014_x86_64.whl (6.5 MB)\n",
            "\u001b[K     |████████████████████████████████| 6.5 MB 13.6 MB/s \n",
            "\u001b[?25hCollecting qiskit-aer==0.10.4\n",
            "  Downloading qiskit_aer-0.10.4-cp37-cp37m-manylinux_2_12_x86_64.manylinux2010_x86_64.whl (18.0 MB)\n",
            "\u001b[K     |████████████████████████████████| 18.0 MB 237 kB/s \n",
            "\u001b[?25hCollecting qiskit-ibmq-provider==0.19.1\n",
            "  Downloading qiskit_ibmq_provider-0.19.1-py3-none-any.whl (240 kB)\n",
            "\u001b[K     |████████████████████████████████| 240 kB 59.8 MB/s \n",
            "\u001b[?25hCollecting qiskit-ignis==0.7.0\n",
            "  Downloading qiskit_ignis-0.7.0-py3-none-any.whl (200 kB)\n",
            "\u001b[K     |████████████████████████████████| 200 kB 51.8 MB/s \n",
            "\u001b[?25hRequirement already satisfied: numpy>=1.16.3 in /usr/local/lib/python3.7/dist-packages (from qiskit-aer==0.10.4->qiskit) (1.21.6)\n",
            "Requirement already satisfied: scipy>=1.0 in /usr/local/lib/python3.7/dist-packages (from qiskit-aer==0.10.4->qiskit) (1.4.1)\n",
            "Requirement already satisfied: python-dateutil>=2.8.0 in /usr/local/lib/python3.7/dist-packages (from qiskit-ibmq-provider==0.19.1->qiskit) (2.8.2)\n",
            "Requirement already satisfied: urllib3>=1.21.1 in /usr/local/lib/python3.7/dist-packages (from qiskit-ibmq-provider==0.19.1->qiskit) (1.24.3)\n",
            "Collecting websockets>=10.0\n",
            "  Downloading websockets-10.3-cp37-cp37m-manylinux_2_5_x86_64.manylinux1_x86_64.manylinux_2_12_x86_64.manylinux2010_x86_64.whl (112 kB)\n",
            "\u001b[K     |████████████████████████████████| 112 kB 51.8 MB/s \n",
            "\u001b[?25hCollecting requests-ntlm>=1.1.0\n",
            "  Downloading requests_ntlm-1.1.0-py2.py3-none-any.whl (5.7 kB)\n",
            "Collecting websocket-client>=1.0.1\n",
            "  Downloading websocket_client-1.3.2-py3-none-any.whl (54 kB)\n",
            "\u001b[K     |████████████████████████████████| 54 kB 2.7 MB/s \n",
            "\u001b[?25hRequirement already satisfied: requests>=2.19 in /usr/local/lib/python3.7/dist-packages (from qiskit-ibmq-provider==0.19.1->qiskit) (2.23.0)\n",
            "Collecting retworkx>=0.8.0\n",
            "  Downloading retworkx-0.11.0-cp37-cp37m-manylinux_2_5_x86_64.manylinux1_x86_64.manylinux_2_12_x86_64.manylinux2010_x86_64.whl (1.6 MB)\n",
            "\u001b[K     |████████████████████████████████| 1.6 MB 45.4 MB/s \n",
            "\u001b[?25hRequirement already satisfied: setuptools>=40.1.0 in /usr/local/lib/python3.7/dist-packages (from qiskit-ignis==0.7.0->qiskit) (57.4.0)\n",
            "Collecting stevedore>=3.0.0\n",
            "  Downloading stevedore-3.5.0-py3-none-any.whl (49 kB)\n",
            "\u001b[K     |████████████████████████████████| 49 kB 5.4 MB/s \n",
            "\u001b[?25hRequirement already satisfied: dill>=0.3 in /usr/local/lib/python3.7/dist-packages (from qiskit-terra==0.20.1->qiskit) (0.3.4)\n",
            "Requirement already satisfied: sympy>=1.3 in /usr/local/lib/python3.7/dist-packages (from qiskit-terra==0.20.1->qiskit) (1.7.1)\n",
            "Collecting scipy>=1.0\n",
            "  Downloading scipy-1.7.3-cp37-cp37m-manylinux_2_12_x86_64.manylinux2010_x86_64.whl (38.1 MB)\n",
            "\u001b[K     |████████████████████████████████| 38.1 MB 1.1 MB/s \n",
            "\u001b[?25hRequirement already satisfied: psutil>=5 in /usr/local/lib/python3.7/dist-packages (from qiskit-terra==0.20.1->qiskit) (5.4.8)\n",
            "Collecting tweedledum<2.0,>=1.1\n",
            "  Downloading tweedledum-1.1.1-cp37-cp37m-manylinux_2_12_x86_64.manylinux2010_x86_64.whl (943 kB)\n",
            "\u001b[K     |████████████████████████████████| 943 kB 50.7 MB/s \n",
            "\u001b[?25hCollecting symengine>=0.9\n",
            "  Downloading symengine-0.9.2-cp37-cp37m-manylinux2010_x86_64.whl (37.5 MB)\n",
            "\u001b[K     |████████████████████████████████| 37.5 MB 1.2 MB/s \n",
            "\u001b[?25hCollecting ply>=3.10\n",
            "  Downloading ply-3.11-py2.py3-none-any.whl (49 kB)\n",
            "\u001b[K     |████████████████████████████████| 49 kB 6.1 MB/s \n",
            "\u001b[?25hCollecting python-constraint>=1.4\n",
            "  Downloading python-constraint-1.4.0.tar.bz2 (18 kB)\n",
            "Requirement already satisfied: six>=1.5 in /usr/local/lib/python3.7/dist-packages (from python-dateutil>=2.8.0->qiskit-ibmq-provider==0.19.1->qiskit) (1.15.0)\n",
            "Requirement already satisfied: idna<3,>=2.5 in /usr/local/lib/python3.7/dist-packages (from requests>=2.19->qiskit-ibmq-provider==0.19.1->qiskit) (2.10)\n",
            "Requirement already satisfied: certifi>=2017.4.17 in /usr/local/lib/python3.7/dist-packages (from requests>=2.19->qiskit-ibmq-provider==0.19.1->qiskit) (2021.10.8)\n",
            "Requirement already satisfied: chardet<4,>=3.0.2 in /usr/local/lib/python3.7/dist-packages (from requests>=2.19->qiskit-ibmq-provider==0.19.1->qiskit) (3.0.4)\n",
            "Collecting cryptography>=1.3\n",
            "  Downloading cryptography-37.0.2-cp36-abi3-manylinux_2_24_x86_64.whl (4.0 MB)\n",
            "\u001b[K     |████████████████████████████████| 4.0 MB 40.5 MB/s \n",
            "\u001b[?25hCollecting ntlm-auth>=1.0.2\n",
            "  Downloading ntlm_auth-1.5.0-py2.py3-none-any.whl (29 kB)\n",
            "Requirement already satisfied: cffi>=1.12 in /usr/local/lib/python3.7/dist-packages (from cryptography>=1.3->requests-ntlm>=1.1.0->qiskit-ibmq-provider==0.19.1->qiskit) (1.15.0)\n",
            "Requirement already satisfied: pycparser in /usr/local/lib/python3.7/dist-packages (from cffi>=1.12->cryptography>=1.3->requests-ntlm>=1.1.0->qiskit-ibmq-provider==0.19.1->qiskit) (2.21)\n",
            "Collecting pbr!=2.1.0,>=2.0.0\n",
            "  Downloading pbr-5.9.0-py2.py3-none-any.whl (112 kB)\n",
            "\u001b[K     |████████████████████████████████| 112 kB 62.7 MB/s \n",
            "\u001b[?25hRequirement already satisfied: importlib-metadata>=1.7.0 in /usr/local/lib/python3.7/dist-packages (from stevedore>=3.0.0->qiskit-terra==0.20.1->qiskit) (4.11.3)\n",
            "Requirement already satisfied: zipp>=0.5 in /usr/local/lib/python3.7/dist-packages (from importlib-metadata>=1.7.0->stevedore>=3.0.0->qiskit-terra==0.20.1->qiskit) (3.8.0)\n",
            "Requirement already satisfied: typing-extensions>=3.6.4 in /usr/local/lib/python3.7/dist-packages (from importlib-metadata>=1.7.0->stevedore>=3.0.0->qiskit-terra==0.20.1->qiskit) (4.2.0)\n",
            "Requirement already satisfied: mpmath>=0.19 in /usr/local/lib/python3.7/dist-packages (from sympy>=1.3->qiskit-terra==0.20.1->qiskit) (1.2.1)\n",
            "Building wheels for collected packages: qiskit, python-constraint\n",
            "  Building wheel for qiskit (setup.py) ... \u001b[?25l\u001b[?25hdone\n",
            "  Created wheel for qiskit: filename=qiskit-0.36.1-py3-none-any.whl size=11887 sha256=95fb606771258e3a2dede1467c333790a0c3ef46ca88ac605eb5f67e90077958\n",
            "  Stored in directory: /root/.cache/pip/wheels/16/d2/58/340c0b0c7701a58b596126e5eb31c347c8dbfda8b949a555bd\n",
            "  Building wheel for python-constraint (setup.py) ... \u001b[?25l\u001b[?25hdone\n",
            "  Created wheel for python-constraint: filename=python_constraint-1.4.0-py2.py3-none-any.whl size=24081 sha256=1cd53fba17f4594ec7acec8f132b347a5203051bb1c60a4720eee23ece07e3c2\n",
            "  Stored in directory: /root/.cache/pip/wheels/07/27/db/1222c80eb1e431f3d2199c12569cb1cac60f562a451fe30479\n",
            "Successfully built qiskit python-constraint\n",
            "Installing collected packages: pbr, tweedledum, symengine, stevedore, scipy, retworkx, python-constraint, ply, ntlm-auth, cryptography, websockets, websocket-client, requests-ntlm, qiskit-terra, qiskit-ignis, qiskit-ibmq-provider, qiskit-aer, qiskit\n",
            "  Attempting uninstall: scipy\n",
            "    Found existing installation: scipy 1.4.1\n",
            "    Uninstalling scipy-1.4.1:\n",
            "      Successfully uninstalled scipy-1.4.1\n",
            "\u001b[31mERROR: pip's dependency resolver does not currently take into account all the packages that are installed. This behaviour is the source of the following dependency conflicts.\n",
            "albumentations 0.1.12 requires imgaug<0.2.7,>=0.2.5, but you have imgaug 0.2.9 which is incompatible.\u001b[0m\n",
            "Successfully installed cryptography-37.0.2 ntlm-auth-1.5.0 pbr-5.9.0 ply-3.11 python-constraint-1.4.0 qiskit-0.36.1 qiskit-aer-0.10.4 qiskit-ibmq-provider-0.19.1 qiskit-ignis-0.7.0 qiskit-terra-0.20.1 requests-ntlm-1.1.0 retworkx-0.11.0 scipy-1.7.3 stevedore-3.5.0 symengine-0.9.2 tweedledum-1.1.1 websocket-client-1.3.2 websockets-10.3\n"
          ]
        }
      ],
      "source": [
        "!pip install qiskit"
      ]
    },
    {
      "cell_type": "markdown",
      "source": [
        "# Calculate density matrix from mixed state distribution\n"
      ],
      "metadata": {
        "id": "w_9SlW64KIY5"
      }
    },
    {
      "cell_type": "code",
      "source": [
        "import qiskit.quantum_info as qi\n",
        "from qiskit.opflow import (StateFn, Zero, One, Plus, Minus, H,\n",
        "                           DictStateFn, VectorStateFn, CircuitStateFn, OperatorStateFn)\n",
        "from qiskit.quantum_info import Statevector\n",
        "\n",
        "from math import *\n",
        "\n",
        "i = Statevector([1/sqrt(2), 0,0, 0]) - Statevector([0, 0,0, 1/sqrt(2)])\n",
        "rho_H = qi.DensityMatrix(i)\n",
        "\n",
        "i2 = Statevector([0, 1/sqrt(2),0, 0]) + Statevector([0, 0,1/sqrt(2), 0])\n",
        "rho_H2 = qi.DensityMatrix(i2)\n",
        "\n",
        "final_density = (1/2)*rho_H+(1/2)*rho_H2\n",
        "final_density.draw('latex', prefix='\\\\rho_H = ')\n"
      ],
      "metadata": {
        "colab": {
          "base_uri": "https://localhost:8080/",
          "height": 99
        },
        "id": "qr0gAN1DKUcv",
        "outputId": "e623e8e8-117a-4f7d-f202-c3b6aa8fa584"
      },
      "execution_count": 2,
      "outputs": [
        {
          "output_type": "execute_result",
          "data": {
            "text/plain": [
              "<IPython.core.display.Latex object>"
            ],
            "text/latex": "$$\n\\rho_H = \n\\begin{bmatrix}\n\\tfrac{1}{4} & 0 & 0 & -\\tfrac{1}{4}  \\\\\n 0 & \\tfrac{1}{4} & \\tfrac{1}{4} & 0  \\\\\n 0 & \\tfrac{1}{4} & \\tfrac{1}{4} & 0  \\\\\n -\\tfrac{1}{4} & 0 & 0 & \\tfrac{1}{4}  \\\\\n \\end{bmatrix}\n$$"
          },
          "metadata": {},
          "execution_count": 2
        }
      ]
    },
    {
      "cell_type": "markdown",
      "source": [
        "# Reduced matrix\n"
      ],
      "metadata": {
        "id": "OuENoW9EYqPK"
      }
    },
    {
      "cell_type": "code",
      "source": [
        "phi =  \\\n",
        "Statevector([(1/(2*sqrt(2)))*sqrt(3),0,0,0]) + \\\n",
        "Statevector([0,(1/(2*sqrt(2)))*sqrt(3),0,0]) +  \\\n",
        "Statevector([0,0,(1/(2*sqrt(2)))*1,0])       -   \\\n",
        "Statevector([0,0,0,(1/(2*sqrt(2)))*1])\n",
        "\n",
        "rho_B = qi.partial_trace(phi,[1])\n",
        "rho_A = qi.partial_trace(phi,[0])\n",
        "\n",
        "display(rho_A.draw('latex', prefix=\" \\\\rho_{A} = \"), rho_B.draw('latex', prefix=\" \\\\rho_{B} = \") )\n",
        "\n"
      ],
      "metadata": {
        "colab": {
          "base_uri": "https://localhost:8080/",
          "height": 99
        },
        "id": "01P6rCsBYpuo",
        "outputId": "fb28fc7a-2fd5-450f-e370-d05e51e560de"
      },
      "execution_count": 3,
      "outputs": [
        {
          "output_type": "display_data",
          "data": {
            "text/plain": [
              "<IPython.core.display.Latex object>"
            ],
            "text/latex": "$$\n \\rho_{A} = \n\\begin{bmatrix}\n\\tfrac{3}{4} & 0  \\\\\n 0 & \\tfrac{1}{4}  \\\\\n \\end{bmatrix}\n$$"
          },
          "metadata": {}
        },
        {
          "output_type": "display_data",
          "data": {
            "text/plain": [
              "<IPython.core.display.Latex object>"
            ],
            "text/latex": "$$\n \\rho_{B} = \n\\begin{bmatrix}\n\\tfrac{1}{2} & \\tfrac{1}{4}  \\\\\n \\tfrac{1}{4} & \\tfrac{1}{2}  \\\\\n \\end{bmatrix}\n$$"
          },
          "metadata": {}
        }
      ]
    },
    {
      "cell_type": "markdown",
      "source": [
        "# Entropy"
      ],
      "metadata": {
        "id": "jrO3655VPyvJ"
      }
    },
    {
      "cell_type": "code",
      "source": [
        "from qiskit.quantum_info import entropy, DensityMatrix\n",
        "\n",
        "\n",
        "# Density matrix object\n",
        "s3 = entropy(rho_B)  \n",
        "print(s3)\n",
        "\n",
        "# Statevector as list\n",
        "s1 = entropy([1/sqrt(2), 1/sqrt(2), 0, 0])  \n",
        "print(s1)\n"
      ],
      "metadata": {
        "colab": {
          "base_uri": "https://localhost:8080/"
        },
        "id": "WAoqDbQQLdrS",
        "outputId": "422e5587-7bae-4603-c7df-311ecd558350"
      },
      "execution_count": 4,
      "outputs": [
        {
          "output_type": "stream",
          "name": "stdout",
          "text": [
            "0.8112781244591332\n",
            "0\n"
          ]
        }
      ]
    },
    {
      "cell_type": "code",
      "source": [
        "import qiskit.quantum_info as qi\n",
        "from qiskit.opflow import (StateFn, Zero, One, Plus, Minus, H,\n",
        "                           DictStateFn, VectorStateFn, CircuitStateFn, OperatorStateFn)\n",
        "from math import *\n",
        "\n",
        "i = Statevector([1/sqrt(2), 0,0, 0]) - Statevector([0, 0,0, 1/sqrt(2)])\n",
        "rho_H = qi.DensityMatrix(i)\n",
        "\n",
        "i2 = Statevector([0, 1/sqrt(2),0, 0]) + Statevector([0, 0,1/sqrt(2), 0])\n",
        "rho_H2 = qi.DensityMatrix(i2)\n",
        "\n",
        "final_density = (1/2)*rho_H+(1/2)*rho_H2\n",
        "final_density.draw('latex', prefix='\\\\rho_H = ')\n"
      ],
      "metadata": {
        "colab": {
          "base_uri": "https://localhost:8080/",
          "height": 99
        },
        "id": "in150I7zOv4N",
        "outputId": "888e7d06-6be0-4579-b46f-9eebc3c90d69"
      },
      "execution_count": 5,
      "outputs": [
        {
          "output_type": "execute_result",
          "data": {
            "text/plain": [
              "<IPython.core.display.Latex object>"
            ],
            "text/latex": "$$\n\\rho_H = \n\\begin{bmatrix}\n\\tfrac{1}{4} & 0 & 0 & -\\tfrac{1}{4}  \\\\\n 0 & \\tfrac{1}{4} & \\tfrac{1}{4} & 0  \\\\\n 0 & \\tfrac{1}{4} & \\tfrac{1}{4} & 0  \\\\\n -\\tfrac{1}{4} & 0 & 0 & \\tfrac{1}{4}  \\\\\n \\end{bmatrix}\n$$"
          },
          "metadata": {},
          "execution_count": 5
        }
      ]
    },
    {
      "cell_type": "markdown",
      "source": [
        "# Calulating probabilities\n"
      ],
      "metadata": {
        "id": "pFgdFBK6T9hM"
      }
    },
    {
      "cell_type": "code",
      "source": [
        "phi =  \\\n",
        "Statevector([(1/(2*sqrt(2)))*sqrt(3),0,0,0]) + \\\n",
        "Statevector([0,(1/(2*sqrt(2)))*sqrt(3),0,0]) +  \\\n",
        "Statevector([0,0,(1/(2*sqrt(2)))*1,0])       -   \\\n",
        "Statevector([0,0,0,(1/(2*sqrt(2)))*1])\n",
        "\n",
        "probabilities = phi.probabilities_dict()\n",
        "print(probabilities)\n",
        "\n",
        "#what is the probability alice (first bit) is 1?\n",
        "print(\"ALICE\")\n",
        "print(probabilities['10'] +probabilities['11'])\n",
        "\n",
        "#what is the probability bob (second bit) is 1?\n",
        "print(\"BOB\")\n",
        "print(probabilities['01'] +probabilities['11'])\n"
      ],
      "metadata": {
        "colab": {
          "base_uri": "https://localhost:8080/"
        },
        "id": "luWPTtfiUFwt",
        "outputId": "e0405711-02d2-4765-9f14-b359801aa3e3"
      },
      "execution_count": 6,
      "outputs": [
        {
          "output_type": "stream",
          "name": "stdout",
          "text": [
            "{'00': 0.37499999999999994, '01': 0.37499999999999994, '10': 0.12499999999999997, '11': 0.12499999999999997}\n",
            "ALICE\n",
            "0.24999999999999994\n",
            "BOB\n",
            "0.4999999999999999\n"
          ]
        }
      ]
    },
    {
      "cell_type": "markdown",
      "source": [
        "# SVD Decomposition\n",
        "\n",
        "\n"
      ],
      "metadata": {
        "id": "jcMrM-k11xYe"
      }
    },
    {
      "cell_type": "code",
      "source": [
        "from numpy import linalg as LA\n",
        "import numpy as np\n",
        "from numpy.linalg import svd as SVD\n",
        "\n",
        "g  = qi.DensityMatrix(phi)\n",
        "\n",
        "display(rho_A.draw('latex', prefix=\" \\\\rho_{A} = \"), rho_B.draw('latex', prefix=\" \\\\rho_{B} = \") )\n",
        "\n",
        "g.draw('latex', prefix='\\\\rho_H = ')\n",
        "\n",
        "\n",
        "u, s, vh = SVD(rho_A.data)\n",
        "\n",
        "new_rowA = np.dot(u * s, vh)\n",
        "# print(new_rowA)\n",
        "\n",
        "\n",
        "print(\"Eigenvalas\")\n",
        "print(u)\n",
        "u, s, vh  = qi.DensityMatrix(u),qi.DensityMatrix(s),qi.DensityMatrix(vh)\n",
        "s.draw('latex', prefix='\\\\ S = ')\n",
        "\n",
        "\n",
        "\n",
        "# print(\"Eigenvectors\")\n",
        "# print(v)"
      ],
      "metadata": {
        "colab": {
          "base_uri": "https://localhost:8080/",
          "height": 192
        },
        "id": "UrcxM0-JW-Ao",
        "outputId": "9dce87a6-e7eb-462d-fa9e-8b924eddf67d"
      },
      "execution_count": 7,
      "outputs": [
        {
          "output_type": "display_data",
          "data": {
            "text/plain": [
              "<IPython.core.display.Latex object>"
            ],
            "text/latex": "$$\n \\rho_{A} = \n\\begin{bmatrix}\n\\tfrac{3}{4} & 0  \\\\\n 0 & \\tfrac{1}{4}  \\\\\n \\end{bmatrix}\n$$"
          },
          "metadata": {}
        },
        {
          "output_type": "display_data",
          "data": {
            "text/plain": [
              "<IPython.core.display.Latex object>"
            ],
            "text/latex": "$$\n \\rho_{B} = \n\\begin{bmatrix}\n\\tfrac{1}{2} & \\tfrac{1}{4}  \\\\\n \\tfrac{1}{4} & \\tfrac{1}{2}  \\\\\n \\end{bmatrix}\n$$"
          },
          "metadata": {}
        },
        {
          "output_type": "stream",
          "name": "stdout",
          "text": [
            "Eigenvalas\n",
            "[[-1.00000000e+00+0.j  2.58379842e-18+0.j]\n",
            " [ 2.58379842e-18+0.j  1.00000000e+00+0.j]]\n"
          ]
        },
        {
          "output_type": "execute_result",
          "data": {
            "text/plain": [
              "<IPython.core.display.Latex object>"
            ],
            "text/latex": "$$\n\\ S = \n\\begin{bmatrix}\n0.5625 & \\tfrac{3}{16}  \\\\\n \\tfrac{3}{16} & \\tfrac{1}{16}  \\\\\n \\end{bmatrix}\n$$"
          },
          "metadata": {},
          "execution_count": 7
        }
      ]
    },
    {
      "cell_type": "markdown",
      "source": [
        "#Tesor products and density \n"
      ],
      "metadata": {
        "id": "wlFnZzAOzV1b"
      }
    },
    {
      "cell_type": "markdown",
      "source": [
        "###say you want to see possible matrices of outer products of baiss states\n",
        "\n"
      ],
      "metadata": {
        "id": "527ffd8742_z"
      }
    },
    {
      "cell_type": "code",
      "source": [
        "#say you want to see possible matrices of outer products of baiss states\n",
        "#didnt work \n",
        "# rho_m = 1/2*(qi.DensityMatrix.from_label('0') + qi.DensityMatrix.from_label('+'))\n",
        "\n",
        "rho_m = qi.DensityMatrix(i2)\n",
        "display(rho_m.draw('latex', prefix='\\\\rho_m = '))\n",
        "# display(state.draw('latex', prefix='\\\\rho_m = '))\n"
      ],
      "metadata": {
        "colab": {
          "base_uri": "https://localhost:8080/",
          "height": 99
        },
        "id": "V-ua5pM14mb_",
        "outputId": "72b42b82-acd3-4f1a-95ba-5ccd0a4be7ea"
      },
      "execution_count": 8,
      "outputs": [
        {
          "output_type": "display_data",
          "data": {
            "text/plain": [
              "<IPython.core.display.Latex object>"
            ],
            "text/latex": "$$\n\\rho_m = \n\\begin{bmatrix}\n0 & 0 & 0 & 0  \\\\\n 0 & \\tfrac{1}{2} & \\tfrac{1}{2} & 0  \\\\\n 0 & \\tfrac{1}{2} & \\tfrac{1}{2} & 0  \\\\\n 0 & 0 & 0 & 0  \\\\\n \\end{bmatrix}\n$$"
          },
          "metadata": {}
        }
      ]
    },
    {
      "cell_type": "code",
      "source": [
        "#say you want to see possible matrices of outer products of baiss states\n",
        "g =(sqrt(3)*Zero^Plus)/2\n",
        "\n",
        "rho_m2 = 1/2*(qi.DensityMatrix.from_label('0') + qi.DensityMatrix.from_label('+'))\n",
        "rho_m2 = qi.DensityMatrix(g.to_matrix()) \n",
        "display(rho_m.draw('latex', prefix='\\\\rho_m = '))\n"
      ],
      "metadata": {
        "colab": {
          "base_uri": "https://localhost:8080/",
          "height": 99
        },
        "id": "gec2A7J78Keb",
        "outputId": "e5f638ec-0a48-44dc-d0db-15d5491b996f"
      },
      "execution_count": 9,
      "outputs": [
        {
          "output_type": "display_data",
          "data": {
            "text/plain": [
              "<IPython.core.display.Latex object>"
            ],
            "text/latex": "$$\n\\rho_m = \n\\begin{bmatrix}\n0 & 0 & 0 & 0  \\\\\n 0 & \\tfrac{1}{2} & \\tfrac{1}{2} & 0  \\\\\n 0 & \\tfrac{1}{2} & \\tfrac{1}{2} & 0  \\\\\n 0 & 0 & 0 & 0  \\\\\n \\end{bmatrix}\n$$"
          },
          "metadata": {}
        }
      ]
    },
    {
      "cell_type": "code",
      "source": [
        "f = (sqrt(3)*Zero^Plus)/2\n",
        "\n",
        "g = (One^Minus)/2\n",
        "\n",
        "state = Statevector(f.to_matrix() + g.to_matrix())\n",
        "\n",
        "display(state.draw('latex', prefix='\\\\rho_m = '))\n"
      ],
      "metadata": {
        "colab": {
          "base_uri": "https://localhost:8080/",
          "height": 40
        },
        "id": "qW-rq_-l2SlI",
        "outputId": "a02c59e1-783f-4b34-9702-7a43ee4f2050"
      },
      "execution_count": 10,
      "outputs": [
        {
          "output_type": "display_data",
          "data": {
            "text/plain": [
              "<IPython.core.display.Latex object>"
            ],
            "text/latex": "$$\\frac{\\sqrt{6}}{8} |00\\rangle+\\frac{\\sqrt{6}}{8} |01\\rangle+\\frac{\\sqrt{2}}{8} |10\\rangle- \\frac{\\sqrt{2}}{8} |11\\rangle$$"
          },
          "metadata": {}
        }
      ]
    },
    {
      "cell_type": "markdown",
      "source": [
        "# Now lets calulate partial trace on 1st (A) and second qubit (B)"
      ],
      "metadata": {
        "id": "mvEUvqo8ovAS"
      }
    },
    {
      "cell_type": "code",
      "source": [
        "rho_B = qi.partial_trace(rho_m,[0])\n",
        "rho_A = qi.partial_trace(rho_m,[1])\n",
        "\n",
        "display(rho_B.draw('latex', prefix=\" \\\\rho_{B} = \"),\n",
        "        rho_A.draw('latex', prefix=\" \\\\rho_{A} = \"))"
      ],
      "metadata": {
        "colab": {
          "base_uri": "https://localhost:8080/",
          "height": 99
        },
        "id": "cWX1uiZg1-6l",
        "outputId": "89299fbc-c105-4efe-b9a6-0789e7285836"
      },
      "execution_count": 11,
      "outputs": [
        {
          "output_type": "display_data",
          "data": {
            "text/plain": [
              "<IPython.core.display.Latex object>"
            ],
            "text/latex": "$$\n \\rho_{B} = \n\\begin{bmatrix}\n\\tfrac{1}{2} & 0  \\\\\n 0 & \\tfrac{1}{2}  \\\\\n \\end{bmatrix}\n$$"
          },
          "metadata": {}
        },
        {
          "output_type": "display_data",
          "data": {
            "text/plain": [
              "<IPython.core.display.Latex object>"
            ],
            "text/latex": "$$\n \\rho_{A} = \n\\begin{bmatrix}\n\\tfrac{1}{2} & 0  \\\\\n 0 & \\tfrac{1}{2}  \\\\\n \\end{bmatrix}\n$$"
          },
          "metadata": {}
        }
      ]
    },
    {
      "cell_type": "code",
      "source": [
        "s.draw('latex', prefix='\\\\ S = ')\n",
        "\n",
        "h = Zero^Plus\n",
        "print(h.to_matrix())\n",
        "\n",
        "h = One^Minus\n",
        "print(h.to_matrix())"
      ],
      "metadata": {
        "colab": {
          "base_uri": "https://localhost:8080/"
        },
        "id": "nX38mESmiacb",
        "outputId": "64cc9fb0-9c0e-4deb-9f8b-4d3187856f47"
      },
      "execution_count": 12,
      "outputs": [
        {
          "output_type": "stream",
          "name": "stdout",
          "text": [
            "[0.70710678+0.j 0.70710678+0.j 0.        +0.j 0.        +0.j]\n",
            "[ 0.        +0.0e+00j -0.        +0.0e+00j  0.70710678-8.7e-17j\n",
            " -0.70710678+8.7e-17j]\n"
          ]
        }
      ]
    },
    {
      "cell_type": "code",
      "source": [
        "vh.draw('latex', prefix='\\\\ VN = ')"
      ],
      "metadata": {
        "colab": {
          "base_uri": "https://localhost:8080/",
          "height": 58
        },
        "id": "O6uJQPTGidfu",
        "outputId": "c002d8f4-757f-458c-ee10-946a53a4a24f"
      },
      "execution_count": 13,
      "outputs": [
        {
          "output_type": "execute_result",
          "data": {
            "text/plain": [
              "<IPython.core.display.Latex object>"
            ],
            "text/latex": "$$\n\\ VN = \n\\begin{bmatrix}\n-1 & 0  \\\\\n 0 & 1  \\\\\n \\end{bmatrix}\n$$"
          },
          "metadata": {},
          "execution_count": 13
        }
      ]
    },
    {
      "cell_type": "markdown",
      "source": [
        "# Building circuits \n"
      ],
      "metadata": {
        "id": "wuVc8RVcCwGk"
      }
    },
    {
      "cell_type": "code",
      "source": [
        "from qiskit import *\n",
        "from qiskit import QuantumCircuit, execute\n",
        "from qiskit.providers.aer import QasmSimulator\n",
        "\n",
        "meas = QuantumCircuit(3, 3)\n",
        "# Add a H gate on qubit 0, putting this qubit in superposition.\n",
        "meas.initialize([1,0,0,0,0,0,0,0])\n",
        "\n",
        "meas.h(0)\n",
        "meas.h(1)\n",
        "meas.ccx(0,1,2)\n",
        "\n",
        "meas.measure(2,2)\n",
        "meas.save_statevector()\n",
        "\n",
        "backend = QasmSimulator()\n",
        "backend_options = {'method': 'statevector'}\n",
        "job = execute(meas, backend, backend_options=backend_options)\n",
        "job_result = job.result()\n",
        "print(job_result.get_statevector(meas))\n",
        "\n",
        "counts = job_result.get_counts(meas)\n",
        "plot_histogram(counts)"
      ],
      "metadata": {
        "colab": {
          "base_uri": "https://localhost:8080/",
          "height": 408
        },
        "id": "7xgukHi3F2E2",
        "outputId": "6f491c79-418d-4144-ae6b-4cbbe5cf1c08"
      },
      "execution_count": 131,
      "outputs": [
        {
          "output_type": "stream",
          "name": "stdout",
          "text": [
            "Statevector([0.57735027+0.j, 0.57735027+0.j, 0.57735027+0.j,\n",
            "             0.        +0.j, 0.        +0.j, 0.        +0.j,\n",
            "             0.        +0.j, 0.        +0.j],\n",
            "            dims=(2, 2, 2))\n"
          ]
        },
        {
          "output_type": "execute_result",
          "data": {
            "text/plain": [
              "<Figure size 504x360 with 1 Axes>"
            ],
            "image/png": "[encoded data removed]"
          },
          "metadata": {},
          "execution_count": 131
        }
      ]
    },
    {
      "cell_type": "code",
      "source": [
        "meas.draw()\n"
      ],
      "metadata": {
        "colab": {
          "base_uri": "https://localhost:8080/",
          "height": 156
        },
        "id": "7b3JLXY9NsaY",
        "outputId": "dfc2b775-0345-4803-da4d-abbfde87e814"
      },
      "execution_count": 129,
      "outputs": [
        {
          "output_type": "execute_result",
          "data": {
            "text/plain": [
              "     ┌──────────────────────────────┐┌───┐         ░ \n",
              "q_0: ┤0                             ├┤ H ├──■──────░─\n",
              "     │                              │├───┤  │      ░ \n",
              "q_1: ┤1 Initialize(1,0,0,0,0,0,0,0) ├┤ H ├──■──────░─\n",
              "     │                              │└───┘┌─┴─┐┌─┐ ░ \n",
              "q_2: ┤2                             ├─────┤ X ├┤M├─░─\n",
              "     └──────────────────────────────┘     └───┘└╥┘ ░ \n",
              "c: 3/═══════════════════════════════════════════╩════\n",
              "                                                2    "
            ],
            "text/html": [
              "<pre style=\"word-wrap: normal;white-space: pre;background: #fff0;line-height: 1.1;font-family: &quot;Courier New&quot;,Courier,monospace\">     ┌──────────────────────────────┐┌───┐         ░ \n",
              "q_0: ┤0                             ├┤ H ├──■──────░─\n",
              "     │                              │├───┤  │      ░ \n",
              "q_1: ┤1 Initialize(1,0,0,0,0,0,0,0) ├┤ H ├──■──────░─\n",
              "     │                              │└───┘┌─┴─┐┌─┐ ░ \n",
              "q_2: ┤2                             ├─────┤ X ├┤M├─░─\n",
              "     └──────────────────────────────┘     └───┘└╥┘ ░ \n",
              "c: 3/═══════════════════════════════════════════╩════\n",
              "                                                2    </pre>"
            ]
          },
          "metadata": {},
          "execution_count": 129
        }
      ]
    }
  ]
}